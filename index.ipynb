{
 "cells": [
  {
   "cell_type": "markdown",
   "id": "5b4156ea",
   "metadata": {},
   "source": [
    "# Jupyter Notebook Class Demonstrations\n",
    "\n",
    "<a href=\"https://github.com/adam-rumpf/jupyter-class-demonstrations\"><img src=\"https://img.shields.io/badge/repo-github-black?logo=github\"></a> <a href=\"https://mybinder.org/v2/gh/adam-rumpf/jupyter-class-demonstrations/HEAD?urlpath=voila%2Frender%2Findex.ipynb\"><img src=\"https://img.shields.io/badge/launch-voil%C3%A0-5dbcaf\"/></a> <a href=\"https://mybinder.org/v2/gh/adam-rumpf/jupyter-class-demonstrations/HEAD?urlpath=%2Findex.ipynb\"><img src=\"https://mybinder.org/badge_logo.svg\"/></a>\n",
    "\n",
    "A collection of interactive Jupyter Notebook mathematical demonstrations. This is meant as a follow-up to my <a href=\"https://github.com/adam-rumpf/mathematica-class-demonstrations\" target=\"_blank\">Mathematica Class Demonstrations</a> project, remade using Jupyter Notebooks for ease of access.\n",
    "\n",
    "This page is meant for ease in navigating through the individual pages in the <a href=\"https://github.com/voila-dashboards/voila\" target=\"_blank\">Voilà</a> rendering of this notebook (click [here](https://mybinder.org/v2/gh/adam-rumpf/jupyter-class-demonstrations/HEAD?urlpath=voila%2Frender%2Findex.ipynb) to view through Voilà). See below for links to individual demonstrations."
   ]
  },
  {
   "cell_type": "markdown",
   "id": "738126fb",
   "metadata": {},
   "source": [
    "## Table of Contents\n",
    "\n",
    "* [Calculus, Differential Equations, and Analysis](#Calculus,-Differential-Equations,-and-Analysis)\n",
    "  * [Cobwebbing](#Cobwebbing)\n",
    "  * [Taylor Series Approximations](#Taylor-Series-Approximations)"
   ]
  },
  {
   "cell_type": "markdown",
   "id": "1c09d007",
   "metadata": {},
   "source": [
    "## Calculus, Differential Equations, and Analysis\n",
    "\n",
    "Many of the files in this folder are based on Mathematica demos originally written to show to my calculus students, either demonstrating material from class or demonstrating material from later classes that indirectly involve the concepts from basic calculus. In particular I find a lot of inspiration from dynamical systems, since they lend themselves quite well to visually demonstrating concepts from calculus."
   ]
  },
  {
   "cell_type": "markdown",
   "id": "5d0051db",
   "metadata": {},
   "source": [
    "### Cobwebbing\n",
    "\n",
    "<img src=\"img/cobwebbing-chaos.png\" height=\"300\"/>\n",
    "\n",
    "Created 4/20/2021  \n",
    "[Complete Demonstration](./calc-diffeq-analysis/cobwebbing.ipynb)  \n",
    "[Standalone Widget](./calc-diffeq-analysis/cobwebbing-standalone.ipynb)  \n",
    "<a href=\"https://github.com/adam-rumpf/mathematica-class-demonstrations#cobwebbing\" target=\"_blank\">Original Mathematica Demonstration</a>\n",
    "\n",
    "This demonstration gives a brief introduction to <a href=\"https://en.wikipedia.org/wiki/Cobweb_plot\" target=\"_blank\">cobwebbing</a>, a graphical technique for quickly approximating the general behavior of a discrete dynamical system. This is a useful technique in mathematical biology since many population growth models take the form of a difference equation. In particular, if the population in the next time step is given as a function _f_ of the population in the current time step, then the cobweb plot can be used to estimate the sequence of population values over many time steps by drawing a zig-zagging line alternately between the _y = f(x)_ curve and the _y = x_ line. The complete demonstration includes an explanation for the motivation behind cobweb diagrams and the reasoning behind why they work, and goes through a few population models as examples. The standalone version includes only a pair of interactive widgets showing the process of drawing cobweb plots for two systems with adjustable parameters."
   ]
  },
  {
   "cell_type": "markdown",
   "id": "b26bbc79",
   "metadata": {},
   "source": [
    "### Taylor Series Approximations\n",
    "\n",
    "<img src=\"img/taylor-series-bell.png\" height=\"300\"/> <img src=\"img/taylor-series-sine.png\" height=\"300\"/>\n",
    "\n",
    "Created 4/17/2021  \n",
    "[Complete Demonstration](./calc-diffeq-analysis/taylor-series.ipynb)  \n",
    "[Standalone Widget](./calc-diffeq-analysis/taylor-series-standalone.ipynb)  \n",
    "<a href=\"https://github.com/adam-rumpf/mathematica-class-demonstrations#taylor-and-fourier-series-approximations\" target=\"_blank\">Original Mathematica Demonstration</a>\n",
    "\n",
    "This demonstration shows how a <a href=\"https://en.wikipedia.org/wiki/Taylor_series\" target=\"_blank\">Taylor series</a> approximation of a given function changes as more terms are added to the series. The complete demonstration includes a mini-lesson showing how the Taylor series can be arrived at by building up a sequence of increasingly-complicated polynomial approximations, while the standalone widget includes only the final widget for manipulating the center and degree of the approximation for a variety of test functions. These can be used to show how well the approximations model the original function near or far from the center, and how adding more terms changes things."
   ]
  },
  {
   "cell_type": "code",
   "execution_count": null,
   "id": "784b8214",
   "metadata": {},
   "outputs": [],
   "source": []
  }
 ],
 "metadata": {
  "kernelspec": {
   "display_name": "Python 3",
   "language": "python",
   "name": "python3"
  },
  "language_info": {
   "codemirror_mode": {
    "name": "ipython",
    "version": 3
   },
   "file_extension": ".py",
   "mimetype": "text/x-python",
   "name": "python",
   "nbconvert_exporter": "python",
   "pygments_lexer": "ipython3",
   "version": "3.9.1"
  }
 },
 "nbformat": 4,
 "nbformat_minor": 5
}
