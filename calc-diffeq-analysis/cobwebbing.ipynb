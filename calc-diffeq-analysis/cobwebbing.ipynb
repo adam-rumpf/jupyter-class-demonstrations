{
 "cells": [
  {
   "cell_type": "markdown",
   "id": "f1e7cb0f",
   "metadata": {},
   "source": [
    "# Cobwebbing\n",
    "\n",
    "Adam Rumpf\n",
    "\n",
    "Created 4/18/21\n",
    "\n",
    "Based on a <a href=\"https://github.com/adam-rumpf/mathematica-class-demonstrations#cobwebbing\" target=\"_blank\">Mathematica class demonstration</a>.\n",
    "\n",
    "See a standalone version of the main cobwebbing widget (shown [below](#Cobwebbing)) [here](./cobwebbing-standalone.ipynb).\n",
    "\n",
    "See more Jupyter Notebook class demonstrations <a href=\"https://github.com/adam-rumpf/jupyter-class-demonstrations\" target=\"_blank\">here</a>."
   ]
  },
  {
   "cell_type": "code",
   "execution_count": null,
   "id": "48970fbd",
   "metadata": {},
   "outputs": [],
   "source": [
    "### Initialization code"
   ]
  },
  {
   "cell_type": "markdown",
   "id": "921b9cfc",
   "metadata": {},
   "source": [
    "## Difference Equations\n",
    "\n",
    "Difference equations are the discrete analogs of differential equations, and are used to describe discrete dynamical systems (systems that change over the course of discrete time steps). They are often used in mathematical biology for modeling populations that reproduce in discrete annual cycles rather than continuously reproducing year-round.\n",
    "\n",
    "A typical continuous population model would take the form of an autonomous differential equation\n",
    "\n",
    "\\begin{align*}\n",
    "\\dot{x}(t) = f(x(t))\n",
    "\\end{align*}\n",
    "\n",
    "which gives the instantaneous rate of change in the population $x$ at time $t$, $\\dot{x}(t) := \\frac{dx}{dt}$, as some function $f$ of the current population, $x(t)$.\n",
    "\n",
    "The discrete equivalent takes the form of a difference equation\n",
    "\n",
    "\\begin{align*}\n",
    "x_{n+1} = f(x_n)\n",
    "\\end{align*}\n",
    "\n",
    "which gives the population $x$ during the next time period $n+1$, $x_{n+1}$, as some function $f$ of the population during the current time period, $x_n$. The total change in population between time steps $n$ and $n+1$ is denoted $\\Delta x_n$, and is defined as\n",
    "\n",
    "\\begin{align*}\n",
    "\\Delta x_n := x_{n+1} - x_n\n",
    "\\end{align*}\n",
    "\n",
    "In this way $\\Delta x_n$ is like the discrete version of $\\dot{x}(t)$. If $\\Delta x_n$ is positive then population is gained between time periods $n$ and $n+1$, if $\\Delta x_n$ is negative then population is lost, and if $\\Delta x_n$ is zero then the population remains constant."
   ]
  },
  {
   "cell_type": "markdown",
   "id": "968ab76f",
   "metadata": {},
   "source": [
    "## Equilibrium Analysis\n",
    "\n",
    "One of the most important questions to be answered about a dynamical systems model is what the expected long-term behavior is like. In the case of a population model we might want to know whether the population will crash to nothing, or explode without bound, or settle at a finite value. This behavior might in turn depend on some of the parameters of the model, in which case we might want to know how different combinations of parameters affect the long-term behavior of the system. These kinds of _qualitative_ rather than _quantitative_ questions are one of the big differences between a dynamical systems course and a differential equations course. While differential equations tends to focus almost entirely on analytically or numerically solving systems in order to be able to write the solution $x(t)$ in closed form, dynamical systems tends to focus on questions that can be answered without actually needing to explicitly solve the system.\n",
    "\n",
    "One of the most useful tools in studying dynamical systems is _equilibrium analysis_. An _equilibrium_ of a dynamical system is a solution that does not change once reached, meaning that if the system were to begin at an equilibrium solution, it would remain there forever. It is possible for an equilibrium to be either _stable_, meaning that nearby solutions tend to move towards it, or _unstable_, meaning that nearby solutions tend to move away from it. Other, more complicated behaviors (like saddle points, limit cycles, or periodic orbits) are also possible, but one of the main things we usually want to know about a dynamical system is what the equilibria are, and whether they are stable or unstable.\n",
    "\n",
    "Since the defining characteristic of an equilibrium, $x^*$, is that the system doesn't change once it is reached, we can define an equilibrium solution to be any solution for which the difference (or the derivative, in the continuous case) is zero, i.e.\n",
    "\n",
    "\\begin{align*}\n",
    "\\Delta x^* = 0\n",
    "\\end{align*}\n",
    "\n",
    "or equivalently\n",
    "\n",
    "\\begin{align*}\n",
    "f(x^*) = x^*\n",
    "\\end{align*}\n",
    "\n",
    "So, given a specific model $x_{n+1} = f(x_n)$, we can search for equilibria by simply solving the equation $f(x^*) = x^*$."
   ]
  },
  {
   "cell_type": "markdown",
   "id": "e7cb8ed5",
   "metadata": {},
   "source": [
    "### Example: Discrete Logistic Growth\n",
    "\n",
    "One of the most well-known discrete population models is the <a href=\"https://en.wikipedia.org/wiki/Logistic_map\" target=\"_blank\">discrete logistic map</a>, which is the discrete analog of the continuous <a href=\"https://en.wikipedia.org/wiki/Logistic_function#Logistic_differential_equation\" target=\"_blank\">logistic growth model</a>. Both provide a simple model for a population whose growth is limited by some carrying capacity (for example, due to limited space or resources).\n",
    "\n",
    "The continuous logistic growth model takes the form of the differential equation\n",
    "\n",
    "\\begin{align*}\n",
    "\\dot{x}(t) = r x(t) \\big( L - x(t) \\big)\n",
    "\\end{align*}\n",
    "\n",
    "where $r$ is the intrinsic growth rate of the population and $L$ is the carrying capacity.\n",
    "\n",
    "To analyze this model, we can immediately see that there are exactly two equilibria, $x^* = 0$ and $x^* = L$, since both result in the growth rate $\\dot{x}(t)$ becoming zero. When the population is small, $L - x(t)$ is nearly equal to just $L$, and the equation is nearly equal to $\\dot{x}(t) = L r x(t)$, which is the differential equation for <a href=\"https://en.wikipedia.org/wiki/Exponential_growth#Differential_equation\" target=\"_blank\">exponential growth</a>. When the population is just under $L$, $L - x(t)$ is nearly zero, and the rate of growth slows. When the population is larger than $L$, then $L - x(t)$ is negative and $\\dot{x}(t)$ becomes negative, meaning that the population shrinks. Combining all of these observations we can conclude that $0$ is an unstable equilibrium while $L$ is a stable equilibrium."
   ]
  },
  {
   "cell_type": "code",
   "execution_count": null,
   "id": "9dfa0983",
   "metadata": {},
   "outputs": [],
   "source": [
    "### Stream plots or similar diagrams for the continuous logistic growth model"
   ]
  },
  {
   "cell_type": "markdown",
   "id": "2b6fcddc",
   "metadata": {},
   "source": [
    "The discrete analog of this model is defined by the difference equation\n",
    "\n",
    "\\begin{align*}\n",
    "\\Delta x_n = r x_n (L - x_n)\n",
    "\\end{align*}\n",
    "\n",
    "Again, we see that the two equilibria are $x^* = 0$ and $x^* = L$, since both result in $\\Delta x_n$ becoming zero and thus no change. We can still make some of the same basic observations as in the continuous case about when the population grows and when it shrinks, but the discrete model can display significantly more complicated behavior than the continuous model is capable of, and determining the long-term behavior of any given initial solution is not as straightforward as one might expect.\n",
    "\n",
    "For example, consider the case of $r=2.5$ and $L=1$ (note that this does not necessarily mean that the population is limited to $1$ individual, since the unit of $x$ is unspecified). Then if our initial population were $x_0 = 0.6$, our next population would be $x_1 = 2.5 x_0 (1-x_0) = 2.5 (0.6)(1-0.6) = 1.2$. After that our population would be $x_2 = 2.5 x_1 (1-x_1) = 2.5 (1.2) (1-1.2) = 0.6$, which is equal to the initial population $x_0$, meaning that from this point onward the population will continue to oscillate between $0.6$ and $1.2$ forever. Complicated cycles like this are common in discrete dynamical systems, which can make them difficult to analyze."
   ]
  },
  {
   "cell_type": "code",
   "execution_count": null,
   "id": "2f9c2a9f",
   "metadata": {},
   "outputs": [],
   "source": [
    "### Show the oscillation"
   ]
  },
  {
   "cell_type": "markdown",
   "id": "84547002",
   "metadata": {},
   "source": [
    "Finding equilibria is relatively straightforward, but determining whether an equilibrium is stable or unstable is another matter. Intuitively we could try to get a rough idea of the stability by plugging a value \"close to\" $x^*$ into the difference equation and then evaluating it for a few iterations to see whether the solutions get closer to or farther from $x^*$, but that might require going through some lengthy calculations. Fortunately there's a quick and easy graphical method that lets us approximate these calculations visually."
   ]
  },
  {
   "cell_type": "markdown",
   "id": "e0bb94ff",
   "metadata": {},
   "source": [
    "## Cobwebbing\n",
    "\n",
    "Cobwebbing is a graphical method for quickly analyzing the behavior of a discrete dynamical system given a starting value. It is primarily meant to be used with a hand-sketched plot of the difference equation $x_{n+1} = f(x_n)$, and allows the user to come up with a rough idea of how a given initial solution will evolve after many time steps using only a paper and pencil.\n",
    "\n",
    "Given a model of the form $x_{n+1} = f(x_n)$, consider what the graph $y = f(x)$ represents. For any given input value $x$, the height of the point $(x,y)$ on the graph directly above it gives us the value of $f(x)$. Then if we draw the graph of $y = f(x)$, we will be able to quickly, visually estimate the next value $x_1$ which follows our initial value $x_0$. All we need to do is locate $x_0$ on the $x$-axis and then look at the height of the curve directly above $x_0$."
   ]
  },
  {
   "cell_type": "code",
   "execution_count": null,
   "id": "8fdd43ea",
   "metadata": {},
   "outputs": [],
   "source": [
    "### Diagram of the first step in cobwebbing"
   ]
  },
  {
   "cell_type": "markdown",
   "id": "a4cc56e1",
   "metadata": {},
   "source": [
    "To then find the next value $x_2$ which follows $x_1$ we could repeat the same process, locating $x_1$ on the $x$-axis and finding the height of the curve directly above it, but there's a faster way.\n",
    "\n",
    "After having found the point $(x_0,f(x_0))$ on the plot, the current $y$-coordinate is $f(x_0) = x_1$. We wish to transfer this $y$-coordinate into an $x$-coordinate, and the quickest way to accomplish that visually is to move horizontally to the $y=x$ line, to the point $(x_1,x_1)$."
   ]
  },
  {
   "cell_type": "code",
   "execution_count": null,
   "id": "ed6543f2",
   "metadata": {},
   "outputs": [],
   "source": [
    "### Diagram of the second step in cobwebbing"
   ]
  },
  {
   "cell_type": "markdown",
   "id": "8779998c",
   "metadata": {},
   "source": [
    "Now our current $x$-coordinate is $x_1$, and we can again move vertically to intersect the curve at the point $(x_1,f(x_1))$ to find $x_2 = f(x_1)$."
   ]
  },
  {
   "cell_type": "code",
   "execution_count": null,
   "id": "150b1e5a",
   "metadata": {},
   "outputs": [],
   "source": [
    "### Diagram of the third step in cobwebbing"
   ]
  },
  {
   "cell_type": "markdown",
   "id": "c32073cc",
   "metadata": {},
   "source": [
    "This process can be repeated as many times as needed, alternating moving vertically (which may require moving up or down) to intersect the curve and then moving horizontally (which may require moving left or right) to intersect the $y=x$ line. The sequence of $x$-coordinates corresponds to the sequence of values $x_0,x_1,x_2,\\dots$ attained by the dynamical system.\n",
    "\n",
    "The $y=x$ line also has some special significance beyond simply allowing the current $y$-coordinate to be converted into an $x$-coordinate. On a plot of $x_{n+1}$ versus $x_n$, the $y=x$ line indicates all of the points for which $x_{n+1} = x_n$. Any such points which intersect the curve $y = f(x)$ are solutions for which $f(x_n) = x_n$, which is exactly the definition of an equilibrium, therefore the points for which the curve intersects the $y=x$ line are the equilibrium solutions."
   ]
  },
  {
   "cell_type": "markdown",
   "id": "e8428853",
   "metadata": {},
   "source": [
    "**To do**\n",
    "* Tidy up explanation.\n",
    "* Work towards the full Manipulate.\n",
    "* Examples to include: logistic growth with adjustable $r$, a semistable case, cases with multiple intersections.\n",
    "* Try to include examples of periodic behavior (can use the above case of $r=2.5$ and $x_0 = 0.6$) and chaotic behavior."
   ]
  },
  {
   "cell_type": "code",
   "execution_count": null,
   "id": "98bb1cf4",
   "metadata": {},
   "outputs": [],
   "source": []
  }
 ],
 "metadata": {
  "kernelspec": {
   "display_name": "Python 3",
   "language": "python",
   "name": "python3"
  },
  "language_info": {
   "codemirror_mode": {
    "name": "ipython",
    "version": 3
   },
   "file_extension": ".py",
   "mimetype": "text/x-python",
   "name": "python",
   "nbconvert_exporter": "python",
   "pygments_lexer": "ipython3",
   "version": "3.9.1"
  }
 },
 "nbformat": 4,
 "nbformat_minor": 5
}
