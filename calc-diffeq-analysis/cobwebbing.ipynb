{
 "cells": [
  {
   "cell_type": "markdown",
   "id": "8f673baa",
   "metadata": {},
   "source": [
    "# Cobwebbing\n",
    "\n",
    "Adam Rumpf\n",
    "\n",
    "Created 4/20/21\n",
    "\n",
    "Based on a <a href=\"https://github.com/adam-rumpf/mathematica-class-demonstrations#Cobweb-Diagram-for-Logistic-Growth\" target=\"_blank\">Mathematica class demonstration</a>.\n",
    "\n",
    "See a standalone version of the main cobwebbing widget (shown [below](#Cobweb-Diagram-for-Logistic-Growth)) [here](./cobwebbing-standalone.ipynb).\n",
    "\n",
    "[Main Project Page](.././index.ipynb)"
   ]
  },
  {
   "cell_type": "code",
   "execution_count": 1,
   "id": "308c5862",
   "metadata": {
    "jupyter": {
     "source_hidden": true
    },
    "tags": []
   },
   "outputs": [],
   "source": [
    "# Initialization code\n",
    "\n",
    "%matplotlib widget\n",
    "import ipywidgets as widgets\n",
    "import matplotlib.pyplot as plt\n",
    "import numpy as np\n",
    "\n",
    "# Define parameters\n",
    "COBWEB_MAX = 20 # number of cobweb iterations to generate\n",
    "\n",
    "# Define functions\n",
    "\n",
    "def lmap(x, lim=1.0, r=1.0, h=0.0):\n",
    "    \"\"\"Discrete logistic map with absolute harvesting.\n",
    "    \n",
    "    Positional arguments:\n",
    "    x - input value\n",
    "    \n",
    "    Keyword arguments:\n",
    "    lim (1.0) - population limit\n",
    "    r (1.0) - intrinsic growth rate\n",
    "    \"\"\"\n",
    "    \n",
    "    return x + r*x*(lim-x) - h\n",
    "\n",
    "def tmap(x, lb=0.5, ub=1.0, r=1.0):\n",
    "    \"\"\"Discrete population growth with upper and lower stable population bounds.\n",
    "    \n",
    "    Positional arguments:\n",
    "    x - input value\n",
    "    \n",
    "    Keyword arguments:\n",
    "    lb (0.5) - lower population limit\n",
    "    ub (1.0) - upper population limit\n",
    "    r (1.0) - intrinsic growth rate\n",
    "    \"\"\"\n",
    "    \n",
    "    return x + r*x*(x-lb)*(ub-x)\n",
    "\n",
    "def mmap(x, r=0.0):\n",
    "    \"\"\"Discrete map meant to have an adjustable slope at one of its equlibria.\n",
    "    \n",
    "    Positional arguments:\n",
    "    x - input value\n",
    "    \n",
    "    Keyword arguments:\n",
    "    r (0.0) - slope at intermediate equilibrium point (<= 1.5)\n",
    "    \"\"\"\n",
    "    \n",
    "    a = 4 - 4*r\n",
    "    return (a*x*x - 1.5*a*x + (1.0 + 0.5*a))*x\n",
    "\n",
    "def cobweb_update(x0, cwx, cwy, lim=1.0, r=1.0, mode=0):\n",
    "    \"\"\"Updates the global cobweb lists. Lists are edited in-place.\n",
    "    \n",
    "    Positional arguments:\n",
    "    x0 - initial population value\n",
    "    cwx - reference to a list of cobweb plot x-values\n",
    "    cwy - reference to a list of cobweb plot y-values\n",
    "    \n",
    "    Keyword arguments:\n",
    "    lim (1.0) - population limit\n",
    "    r (1.0) - intrinsic growth rate\n",
    "    mode (0) - 0 for logistic with harvesting, 1 for bounded population, 2 for slope map\n",
    "    \"\"\"\n",
    "    \n",
    "    # Generate cobweb coordinates\n",
    "    cwx[0] = x0\n",
    "    cwy[0] = 0.0\n",
    "    for i in range(0, 2*COBWEB_MAX, 2):\n",
    "        cwx[i+1] = cwx[i]\n",
    "        if mode == 0:\n",
    "            cwy[i+1] = max(lmap(cwx[i], r=r), 0.0)\n",
    "        elif mode == 1:\n",
    "            cwy[i+1] = max(tmap(cwx[i], r=r), 0.0)\n",
    "        elif mode == 2:\n",
    "            cwy[i+1] = max(mmap(cwx[i], r=r), 0.0)\n",
    "        cwx[i+2] = cwy[i+1]\n",
    "        cwy[i+2] = cwy[i+1]\n",
    "    cwx[-1] = cwx[-2]\n",
    "    if mode == 0:\n",
    "        cwy[-1] = max(lmap(cwx[-1], r=r), 0.0)\n",
    "    elif mode == 1:\n",
    "        cwy[-1] = max(tmap(cwx[-1], r=r), 0.0)\n",
    "    elif mode == 2:\n",
    "        cwy[-1] = max(mmap(cwx[-1], r=r), 0.0)\n",
    "\n",
    "# Generate x- and n-values\n",
    "x = np.linspace(0, 1.5, 101)\n",
    "nval = [np.floor((n+1)/2) for n in range(2*COBWEB_MAX+2)]"
   ]
  },
  {
   "cell_type": "markdown",
   "id": "a4db0bae",
   "metadata": {},
   "source": [
    "## Difference Equations\n",
    "\n",
    "Difference equations are the discrete analogs of differential equations, and are used to describe discrete dynamical systems (systems that change over the course of discrete time steps). They are often used in mathematical biology for modeling populations that reproduce in discrete annual cycles rather than continuously year-round.\n",
    "\n",
    "A typical continuous population model would take the form of an autonomous differential equation\n",
    "\n",
    "\\begin{align*}\n",
    "\\dot{x}(t) = f(x(t))\n",
    "\\end{align*}\n",
    "\n",
    "which gives the instantaneous rate of change in the population $x$ at time $t$, $\\dot{x}(t) := \\frac{d}{dt} x(t)$, as some function $f$ of the current population, $x(t)$.\n",
    "\n",
    "The discrete equivalent takes the form of a difference equation\n",
    "\n",
    "\\begin{align*}\n",
    "x_{n+1} = f(x_n)\n",
    "\\end{align*}\n",
    "\n",
    "which gives the population $x$ during the next ($n+1$) time period, $x_{n+1}$, as some function $f$ of the population during the current ($n$) time period, $x_n$. The total change in population between time steps $n$ and $n+1$ is denoted $\\Delta x_n$, and is defined as\n",
    "\n",
    "\\begin{align*}\n",
    "\\Delta x_n := x_{n+1} - x_n\n",
    "\\end{align*}\n",
    "\n",
    "In this way $\\Delta x_n$ is like the discrete version of $\\dot{x}(t)$, and the difference can be used for some of the same simple qualitative descriptions as the derivative can. For example, if $\\Delta x_n$ is positive then population is gained between time periods $n$ and $n+1$, if $\\Delta x_n$ is negative then population is lost, and if $\\Delta x_n$ is zero then the population remains constant."
   ]
  },
  {
   "cell_type": "markdown",
   "id": "02706178",
   "metadata": {},
   "source": [
    "## Equilibrium Analysis\n",
    "\n",
    "One of the most important questions to be answered about a dynamical systems model is what the expected long-term behavior is like. In the case of a population model we might want to know whether the population will crash to zero (i.e. extinction), or explode without bound, or settle at a finite value. This behavior might in turn depend on some of the parameters of the model, in which case we might want to know how different combinations of parameters affect the long-term behavior of the system. These kinds of _qualitative_ rather than _quantitative_ questions are one of the big differences between a dynamical systems course and a differential equations course. While differential equations courses tend to focus almost entirely on analytically or numerically solving systems in order to be able to write the solution $x(t)$ in closed form, dynamical systems courses tend to focus on questions that can be answered without actually needing to explicitly solve the system.\n",
    "\n",
    "One of the most useful tools in studying dynamical systems is _equilibrium analysis_. An _equilibrium_ of a dynamical system is a solution that does not change once reached, meaning that if the system were to begin at an equilibrium solution, it would remain there forever. It is possible for an equilibrium to be _stable_, meaning that nearby solutions tend to move towards it, or _unstable_, meaning that nearby solutions tend to move away from it. Other, more complicated behaviors (like saddle points, limit cycles, or periodic orbits) are also possible, but one of the main things we usually want to know about a dynamical system is what the equilibria are, and whether they are stable or unstable.\n",
    "\n",
    "Since the defining characteristic of an equilibrium, $x^*$, is that the system doesn't change once it is reached, we can define an equilibrium solution to be any solution for which the difference (or the derivative, in the continuous case) is zero, i.e.\n",
    "\n",
    "\\begin{align*}\n",
    "\\Delta x^* = 0\n",
    "\\end{align*}\n",
    "\n",
    "or equivalently\n",
    "\n",
    "\\begin{align*}\n",
    "f(x^*) = x^*\n",
    "\\end{align*}\n",
    "\n",
    "So, given a specific model $x_{n+1} = f(x_n)$, we can search for equilibria by simply solving the equation $f(x^*) = x^*$."
   ]
  },
  {
   "cell_type": "markdown",
   "id": "633529c6",
   "metadata": {},
   "source": [
    "### Example: Discrete Logistic Growth\n",
    "\n",
    "One of the most well-known discrete population models is the <a href=\"https://en.wikipedia.org/wiki/Logistic_map\" target=\"_blank\">discrete logistic map</a>, which is the discrete analog of the continuous <a href=\"https://en.wikipedia.org/wiki/Logistic_function#Logistic_differential_equation\" target=\"_blank\">logistic growth model</a>. Both provide a simple model for a population whose growth is limited by some carrying capacity (for example, due to limited space or resources).\n",
    "\n",
    "The continuous logistic growth model takes the form of the differential equation\n",
    "\n",
    "\\begin{align*}\n",
    "\\dot{x}(t) = r x(t) (L - x(t))\n",
    "\\end{align*}\n",
    "\n",
    "where $r$ is the intrinsic growth rate of the population and $L$ is the carrying capacity.\n",
    "\n",
    "To analyze this model, we can immediately see that there are exactly two equilibria, $x^* = 0$ and $x^* = L$, since both result in the growth rate $\\dot{x}(t)$ becoming zero. When the population is small, $L - x(t)$ is nearly equal to just $L$, and the equation is nearly equal to $\\dot{x}(t) = L r x(t)$, which is the differential equation for <a href=\"https://en.wikipedia.org/wiki/Exponential_growth#Differential_equation\" target=\"_blank\">exponential growth</a>. When the population is just under $L$, $L - x(t)$ is nearly zero, and the rate of growth slows. When the population is larger than $L$, then $L - x(t)$ is negative and $\\dot{x}(t)$ becomes negative, meaning that the population shrinks. Combining all of these observations we can conclude that $0$ is an unstable equilibrium while $L$ is a stable equilibrium."
   ]
  },
  {
   "cell_type": "code",
   "execution_count": 2,
   "id": "77aecb92",
   "metadata": {
    "jupyter": {
     "source_hidden": true
    },
    "tags": []
   },
   "outputs": [
    {
     "data": {
      "application/vnd.jupyter.widget-view+json": {
       "model_id": "7144ad78dec7413189cbed091b1df7a4",
       "version_major": 2,
       "version_minor": 0
      },
      "text/plain": [
       "Canvas(toolbar=Toolbar(toolitems=[('Home', 'Reset original view', 'home', 'home'), ('Back', 'Back to previous …"
      ]
     },
     "metadata": {},
     "output_type": "display_data"
    },
    {
     "data": {
      "application/vnd.jupyter.widget-view+json": {
       "model_id": "9b7c4a98ec514d82ad6d1895db97cef3",
       "version_major": 2,
       "version_minor": 0
      },
      "text/plain": [
       "interactive(children=(FloatSlider(value=0.25, description='x0', max=1.5, step=0.01), Output()), _dom_classes=(…"
      ]
     },
     "metadata": {},
     "output_type": "display_data"
    }
   ],
   "source": [
    "def logistic(t, x0=0.25, r=1.0, lim=1.0):\n",
    "    \"\"\"Logistic growth function.\n",
    "    \n",
    "    Positional arguments:\n",
    "    t - input value\n",
    "    \n",
    "    Keyword arguments:\n",
    "    x0 (0.25) - initial population\n",
    "    r (1.0) - intrinsic growth rate\n",
    "    lim (1.0) - carrying capacity\n",
    "    \"\"\"\n",
    "    \n",
    "    if (x0 <= 0.0):\n",
    "        return t*0.0\n",
    "    else:\n",
    "        return lim/(1 + ((lim-x0)/x0)*np.exp(-r*t))\n",
    "\n",
    "# Set up plot and initialize solution coordinates\n",
    "fig0, ax0 = plt.subplots()\n",
    "lx0 = np.linspace(0, 10, 101)\n",
    "ly0 = np.zeros_like(lx0) # logistic y-coordinates\n",
    "\n",
    "# Draw plot lines\n",
    "@widgets.interact(x0=(0.0, 1.5, 0.01))\n",
    "def update0(x0=0.25):\n",
    "    global ax0, ly0\n",
    "    \n",
    "    # Scatter plot\n",
    "    ax0.clear()\n",
    "    ax0.set_xlim([0, 10])\n",
    "    ax0.set_ylim([0, 1.5])\n",
    "    ax0.grid(False)\n",
    "    ax0.set_title(\"Continuous Logistic Growth\")\n",
    "    ax0.set_xlabel(\"$t$\")\n",
    "    ax0.set_ylabel(\"$x(t)$\")\n",
    "    ax0.plot(lx0, logistic(lx0, x0), color=\"C0\")\n",
    "    ax0.plot(lx0, np.ones_like(lx0), color=\"black\", linestyle=\"dashed\")"
   ]
  },
  {
   "cell_type": "markdown",
   "id": "77c12ec8",
   "metadata": {
    "tags": []
   },
   "source": [
    "The above widget shows the solution curve for the continuous logistic growth model. The dashed black line indicates the carrying capacity $L$. Click and drag the slider to adjust the initial population $x_0$.\n",
    "\n",
    "The discrete analog of this model is defined by the difference equation\n",
    "\n",
    "\\begin{align*}\n",
    "\\Delta x_n = r x_n (L - x_n)\n",
    "\\end{align*}\n",
    "\n",
    "Again we see that the two equilibria are $x^* = 0$ and $x^* = L$, since both result in $\\Delta x_n$ becoming zero and thus no change. We can still make some of the same basic observations as in the continuous case about when the population grows and when it shrinks, but the discrete model can display significantly more complicated behavior than the continuous model is capable of, and determining the long-term behavior of any given initial solution is not as straightforward as one might expect.\n",
    "\n",
    "For example, consider the case of $r=2.5$ and $L=1$ (note that this does not necessarily mean that the population is limited to $1$ individual, since the unit of $x$ is unspecified). Then if our initial population were $x_0 = 0.6$, our next population would be $x_1 = 2.5 x_0 (1-x_0) = 2.5 (0.6)(1-0.6) = 1.2$. After that our population would be $x_2 = 2.5 x_1 (1-x_1) = 2.5 (1.2) (1-1.2) = 0.6$, which is equal to the initial population $x_0$, meaning that from this point onward the population will continue to oscillate between $0.6$ and $1.2$ forever. Complicated cycles like this are common in discrete dynamical systems, which can make them difficult to analyze."
   ]
  },
  {
   "cell_type": "code",
   "execution_count": 3,
   "id": "81c0e32c",
   "metadata": {
    "jupyter": {
     "source_hidden": true
    },
    "tags": []
   },
   "outputs": [
    {
     "data": {
      "application/vnd.jupyter.widget-view+json": {
       "model_id": "737489ac1dae4e94b69746b79ffbc312",
       "version_major": 2,
       "version_minor": 0
      },
      "text/plain": [
       "Canvas(toolbar=Toolbar(toolitems=[('Home', 'Reset original view', 'home', 'home'), ('Back', 'Back to previous …"
      ]
     },
     "metadata": {},
     "output_type": "display_data"
    }
   ],
   "source": [
    "# Set up plot and initialize cobweb coordinate lists\n",
    "fig1, ax1 = plt.subplots()\n",
    "cwx1 = np.zeros(2*COBWEB_MAX+2) # cobweb x-coordinates\n",
    "cwy1 = np.zeros_like(cwx1) # cobweb y-coordinates\n",
    "cobweb_update(0.6, cwx1, cwy1, r=2.5, mode=0)\n",
    "ax1.set_ylim([0, 1.5])\n",
    "ax1.grid(False)\n",
    "ax1.set_title(\"Time Series ($r=2.5$)\")\n",
    "ax1.set_xlabel(\"$n$\")\n",
    "ax1.set_ylabel(\"$x_n$\")\n",
    "ax1.plot(np.append([0], nval[1:12+2:2]), np.append([0.6], cwy1[1:12+2:2]), color=\"C0\", marker=\".\", markersize=10);"
   ]
  },
  {
   "cell_type": "markdown",
   "id": "ecb7c056",
   "metadata": {},
   "source": [
    "Finding equilibria is relatively straightforward, but determining whether an equilibrium is stable or unstable is another matter. Intuitively we could try to get a rough idea of the stability by plugging a value \"close to\" $x^*$ into the difference equation and then evaluating it for a few iterations to see whether the solutions get closer to or farther from $x^*$, but that might require going through some lengthy calculations. Fortunately there's a quick and easy graphical method that lets us approximate these calculations visually."
   ]
  },
  {
   "cell_type": "markdown",
   "id": "5ecfd7ec",
   "metadata": {},
   "source": [
    "## Cobwebbing\n",
    "\n",
    "Cobwebbing is a graphical method for quickly analyzing the behavior of a discrete dynamical system given a starting value. It is primarily meant to be used with a hand-sketched plot of the difference equation $x_{n+1} = f(x_n)$, and allows the user to come up with a rough idea of how a given initial solution will evolve after many time steps using only a paper and pencil.\n",
    "\n",
    "Given a model of the form $x_{n+1} = f(x_n)$, consider what the graph $y = f(x)$ represents. For any given input value $x$, the height of the point $(x,y)$ on the graph directly above it gives us the value of $f(x)$. Then if we draw the graph of $y = f(x)$, we will be able to quickly, visually estimate the next value $x_1$ which follows our initial value $x_0$. All we need to do is locate $x_0$ on the $x$-axis and then look at the height of the curve directly above $x_0$."
   ]
  },
  {
   "cell_type": "code",
   "execution_count": 4,
   "id": "1b0e8364",
   "metadata": {
    "jupyter": {
     "source_hidden": true
    },
    "tags": []
   },
   "outputs": [
    {
     "data": {
      "application/vnd.jupyter.widget-view+json": {
       "model_id": "9420599805c84fb4b1fa21f3d87cdbfe",
       "version_major": 2,
       "version_minor": 0
      },
      "text/plain": [
       "Canvas(toolbar=Toolbar(toolitems=[('Home', 'Reset original view', 'home', 'home'), ('Back', 'Back to previous …"
      ]
     },
     "metadata": {},
     "output_type": "display_data"
    }
   ],
   "source": [
    "# Set up side-by-side plots and initialize cobweb coordinate lists\n",
    "figs2, ax2 = plt.subplots(1, 2, figsize=(10, 4))\n",
    "cwx2 = np.zeros(2*COBWEB_MAX+2) # cobweb x-coordinates\n",
    "cwy2 = np.zeros_like(cwx2) # cobweb y-coordinates\n",
    "\n",
    "# Generate cobweb plot points\n",
    "cobweb_update(0.25, cwx2, cwy2, r=1.5, mode=0)\n",
    "\n",
    "# Draw first part of cobweb plot\n",
    "ax2[0].clear()\n",
    "ax2[0].set_xlim([0, 1.5])\n",
    "ax2[0].set_ylim([0, 1.5])\n",
    "ax2[0].grid(False)\n",
    "ax2[0].set_title(\"Cobweb Plot\")\n",
    "ax2[0].set_xlabel(\"$x_n$\")\n",
    "ax2[0].set_ylabel(\"$x_{n+1}$\")\n",
    "ax2[0].plot(x, lmap(x, r=1.5), color=\"C0\")\n",
    "ax2[0].plot(cwx2[:0+2], cwy2[:0+2], color=\"C1\")\n",
    "ax2[0].plot(cwx2[0:0+2], cwy2[0:0+2], color=\"red\")\n",
    "\n",
    "# Draw first part of scatter plot\n",
    "ax2[1].clear()\n",
    "ax2[1].set_ylim([0, 1.5])\n",
    "ax2[1].grid(False)\n",
    "ax2[1].set_title(\"Time Series\")\n",
    "ax2[1].set_xlabel(\"$n$\")\n",
    "ax2[1].set_ylabel(\"$x_n$\")\n",
    "ax2[1].plot(np.append([0], nval[1:0+2:2]), np.append([0.25], cwy2[1:0+2:2]), color=\"C0\", marker=\".\", markersize=10)\n",
    "ax2[1].plot(nval[0+1], cwy2[0+1], color=\"red\", marker=\".\", markersize=10);"
   ]
  },
  {
   "cell_type": "markdown",
   "id": "5be57db7",
   "metadata": {},
   "source": [
    "The pair of plots above show the process of estimating the value of $x_1$ as the height of the curve $f(x_n)$ above $x_0$. The cobweb plot on the left shows this height as a red line, while the time series on the right shows a plot of the population between times $n=0$ and $n=1$.\n",
    "\n",
    "To then find the next value $x_2$ which follows $x_1$ we could repeat the same process, locating $x_1$ on the $x$-axis and finding the height of the curve directly above it, but there's a faster way.\n",
    "\n",
    "After having found the point $(x_0,f(x_0))$ on the plot, the current $y$-coordinate is $f(x_0) = x_1$. We wish to transfer this $y$-coordinate into an $x$-coordinate, and the quickest way to accomplish that visually is to move horizontally to the $y=x$ line, to the point $(x_1,x_1)$."
   ]
  },
  {
   "cell_type": "code",
   "execution_count": 5,
   "id": "7d4aeace",
   "metadata": {
    "jupyter": {
     "source_hidden": true
    },
    "tags": []
   },
   "outputs": [
    {
     "data": {
      "application/vnd.jupyter.widget-view+json": {
       "model_id": "4d58690a3e014f2b8b783ce48adcd03e",
       "version_major": 2,
       "version_minor": 0
      },
      "text/plain": [
       "Canvas(toolbar=Toolbar(toolitems=[('Home', 'Reset original view', 'home', 'home'), ('Back', 'Back to previous …"
      ]
     },
     "metadata": {},
     "output_type": "display_data"
    }
   ],
   "source": [
    "# Set up side-by-side plots and initialize cobweb coordinate lists\n",
    "figs3, ax3 = plt.subplots(1, 2, figsize=(10, 4))\n",
    "\n",
    "# Draw first part of cobweb plot\n",
    "ax3[0].clear()\n",
    "ax3[0].set_xlim([0, 1.5])\n",
    "ax3[0].set_ylim([0, 1.5])\n",
    "ax3[0].grid(False)\n",
    "ax3[0].set_title(\"Cobweb Plot\")\n",
    "ax3[0].set_xlabel(\"$x_n$\")\n",
    "ax3[0].set_ylabel(\"$x_{n+1}$\")\n",
    "ax3[0].plot(x, lmap(x, r=1.5), color=\"C0\")\n",
    "ax3[0].plot(x, x, color=\"black\")\n",
    "ax3[0].plot(cwx2[:1+2], cwy2[:1+2], color=\"C1\")\n",
    "ax3[0].plot(cwx2[1:1+2], cwy2[1:1+2], color=\"red\")\n",
    "\n",
    "# Draw first part of scatter plot\n",
    "ax3[1].clear()\n",
    "ax3[1].set_ylim([0, 1.5])\n",
    "ax3[1].grid(False)\n",
    "ax3[1].set_title(\"Time Series\")\n",
    "ax3[1].set_xlabel(\"$n$\")\n",
    "ax3[1].set_ylabel(\"$x_n$\")\n",
    "ax3[1].plot(np.append([0], nval[1:1+2:2]), np.append([0.25], cwy2[1:1+2:2]), color=\"C0\", marker=\".\", markersize=10)\n",
    "ax3[1].plot(nval[1+1], cwy2[1+1], color=\"red\", marker=\".\", markersize=10);"
   ]
  },
  {
   "cell_type": "markdown",
   "id": "96541e32",
   "metadata": {},
   "source": [
    "The red horizontal line in the cobweb diagram above runs from $(x_0,x_1)$ to $(x_1,x_1)$, where it intersects the black $y=x$ line. Now our current $x$-coordinate is $x_1$, and we can again move vertically to intersect the curve at the point $(x_1,f(x_1))$ to find $x_2 = f(x_1)$."
   ]
  },
  {
   "cell_type": "code",
   "execution_count": 6,
   "id": "459fe62f",
   "metadata": {
    "jupyter": {
     "source_hidden": true
    },
    "tags": []
   },
   "outputs": [
    {
     "data": {
      "application/vnd.jupyter.widget-view+json": {
       "model_id": "3288f79b234f45dda4edaf557f7e873d",
       "version_major": 2,
       "version_minor": 0
      },
      "text/plain": [
       "Canvas(toolbar=Toolbar(toolitems=[('Home', 'Reset original view', 'home', 'home'), ('Back', 'Back to previous …"
      ]
     },
     "metadata": {},
     "output_type": "display_data"
    }
   ],
   "source": [
    "# Set up side-by-side plots and initialize cobweb coordinate lists\n",
    "figs4, ax4 = plt.subplots(1, 2, figsize=(10, 4))\n",
    "\n",
    "# Draw first part of cobweb plot\n",
    "ax4[0].clear()\n",
    "ax4[0].set_xlim([0, 1.5])\n",
    "ax4[0].set_ylim([0, 1.5])\n",
    "ax4[0].grid(False)\n",
    "ax4[0].set_title(\"Cobweb Plot\")\n",
    "ax4[0].set_xlabel(\"$x_n$\")\n",
    "ax4[0].set_ylabel(\"$x_{n+1}$\")\n",
    "ax4[0].plot(x, lmap(x, r=1.5), color=\"C0\")\n",
    "ax4[0].plot(x, x, color=\"black\")\n",
    "ax4[0].plot(cwx2[:2+2], cwy2[:2+2], color=\"C1\")\n",
    "ax4[0].plot(cwx2[2:2+2], cwy2[2:2+2], color=\"red\")\n",
    "\n",
    "# Draw first part of scatter plot\n",
    "ax4[1].clear()\n",
    "ax4[1].set_ylim([0, 1.5])\n",
    "ax4[1].grid(False)\n",
    "ax4[1].set_title(\"Time Series\")\n",
    "ax4[1].set_xlabel(\"$n$\")\n",
    "ax4[1].set_ylabel(\"$x_n$\")\n",
    "ax4[1].plot(np.append([0], nval[1:2+2:2]), np.append([0.25], cwy2[1:2+2:2]), color=\"C0\", marker=\".\", markersize=10)\n",
    "ax4[1].plot(nval[2+1], cwy2[2+1], color=\"red\", marker=\".\", markersize=10);"
   ]
  },
  {
   "cell_type": "markdown",
   "id": "b5c3829e",
   "metadata": {},
   "source": [
    "The pair of plots above show the cobweb diagram and time series after estimating $x_2$ from $x_1$. The new vertical red line runs from $(x_1,x_1)$ to $(x_1,x_2)$. The time series includes the single new population value for $n=2$.\n",
    "\n",
    "This process can be repeated as many times as needed, alternating moving vertically (which may require moving either up or down) to intersect the curve and then moving horizontally (which may require moving either left or right) to intersect the $y=x$ line. The sequence of $x$-coordinates corresponds to the sequence of values $x_0,x_1,x_2,\\dots$ attained by the dynamical system.\n",
    "\n",
    "The $y=x$ line also has some special significance beyond simply allowing the current $y$-coordinate to be converted into an $x$-coordinate. On a plot of $x_{n+1}$ versus $x_n$, the $y=x$ line indicates all of the points for which $x_{n+1} = x_n$. Any such points which intersect the curve $y = f(x)$ are solutions for which $f(x_n) = x_n$, which is exactly the definition of an equilibrium, therefore the points for which the curve intersects the $y=x$ line are the equilibrium solutions."
   ]
  },
  {
   "cell_type": "markdown",
   "id": "1ef05bf2",
   "metadata": {},
   "source": [
    "### Cobweb Diagram for Logistic Growth\n",
    "\n",
    "As discussed earlier, the discrete logistic growth model can display unusual behavior for certain combinations of parameters, and cobwebbing can help to explain why. In particular, let's explore the case for which we fix the carrying capacity $L = 1$ and the initial population $x_0 = 0.25$ and change only the growth rate $r$.\n",
    "\n",
    "For relatively small growth rates the model behaves more or less like the continuous version, with the population increasing from its initial value and stabilizing at the carrying capacity over time."
   ]
  },
  {
   "cell_type": "code",
   "execution_count": 7,
   "id": "0f2860a4",
   "metadata": {
    "jupyter": {
     "source_hidden": true
    },
    "tags": []
   },
   "outputs": [
    {
     "data": {
      "application/vnd.jupyter.widget-view+json": {
       "model_id": "77ed166743f141728f155819ec41475d",
       "version_major": 2,
       "version_minor": 0
      },
      "text/plain": [
       "Canvas(toolbar=Toolbar(toolitems=[('Home', 'Reset original view', 'home', 'home'), ('Back', 'Back to previous …"
      ]
     },
     "metadata": {},
     "output_type": "display_data"
    },
    {
     "data": {
      "application/vnd.jupyter.widget-view+json": {
       "model_id": "8c70c3ea991e4d6e9765f80f67b44c9e",
       "version_major": 2,
       "version_minor": 0
      },
      "text/plain": [
       "interactive(children=(FloatSlider(value=0.5, description='r', max=1.25, min=0.25, step=0.05), Output()), _dom_…"
      ]
     },
     "metadata": {},
     "output_type": "display_data"
    }
   ],
   "source": [
    "# Set up side-by-side plots and initialize cobweb coordinate lists\n",
    "figs5, ax5 = plt.subplots(1, 2, figsize=(10, 4))\n",
    "cwx5 = np.zeros(2*COBWEB_MAX+2) # cobweb x-coordinates\n",
    "cwy5 = np.zeros_like(cwx5) # cobweb y-coordinates\n",
    "\n",
    "# Draw plot lines\n",
    "@widgets.interact(r=(0.25, 1.25, 0.05))\n",
    "def update5(r=0.5):\n",
    "    global ax5, cwx5, cwy5\n",
    "    \n",
    "    # Cobweb plot\n",
    "    ax5[0].clear()\n",
    "    ax5[0].set_xlim([0, 1.5])\n",
    "    ax5[0].set_ylim([0, 1.5])\n",
    "    ax5[0].grid(False)\n",
    "    ax5[0].set_title(\"Cobweb Plot\")\n",
    "    ax5[0].set_xlabel(\"$x_n$\")\n",
    "    ax5[0].set_ylabel(\"$x_{n+1}$\")\n",
    "    cobweb_update(0.25, cwx5, cwy5, r=r, mode=0)\n",
    "    ax5[0].plot(x, lmap(x, r=r), color=\"C0\")\n",
    "    ax5[0].plot(x, x, color=\"black\")\n",
    "    ax5[0].plot(cwx5[:2*COBWEB_MAX+1], cwy5[:2*COBWEB_MAX+1], color=\"C1\")\n",
    "    \n",
    "    # Scatter plot\n",
    "    ax5[1].clear()\n",
    "    ax5[1].set_ylim([0, 1.5])\n",
    "    ax5[1].grid(False)\n",
    "    ax5[1].set_title(\"Time Series\")\n",
    "    ax5[1].set_xlabel(\"$n$\")\n",
    "    ax5[1].set_ylabel(\"$x_n$\")\n",
    "    ax5[1].plot(np.append([0], nval[1:2*COBWEB_MAX+1:2]), np.append([0.25], cwy5[1:2*COBWEB_MAX+1:2]), color=\"C0\", marker=\".\", markersize=10)"
   ]
  },
  {
   "cell_type": "markdown",
   "id": "cdd31e02",
   "metadata": {},
   "source": [
    "Click and drag the slider above to change the growth rate $r$. As expected, a larger growth rate causes the population to increase from its initial value to the carrying capacity sooner and in fewer time steps.\n",
    "\n",
    "What might not be expected is that larger growth rates can actually cause the population to \"overshoot\" the carrying capacity, after which (according to the logistic growth equation) the population must then decrease, causing the population to oscillate around the carrying capacity."
   ]
  },
  {
   "cell_type": "code",
   "execution_count": 8,
   "id": "d2ad8a50",
   "metadata": {
    "jupyter": {
     "source_hidden": true
    },
    "tags": []
   },
   "outputs": [
    {
     "data": {
      "application/vnd.jupyter.widget-view+json": {
       "model_id": "772f2983e3634c2685407004e114e391",
       "version_major": 2,
       "version_minor": 0
      },
      "text/plain": [
       "Canvas(toolbar=Toolbar(toolitems=[('Home', 'Reset original view', 'home', 'home'), ('Back', 'Back to previous …"
      ]
     },
     "metadata": {},
     "output_type": "display_data"
    },
    {
     "data": {
      "application/vnd.jupyter.widget-view+json": {
       "model_id": "5d4a22c293334584931b70a8d3f756c2",
       "version_major": 2,
       "version_minor": 0
      },
      "text/plain": [
       "interactive(children=(FloatSlider(value=1.5, description='r', max=2.25, min=1.25, step=0.05), Output()), _dom_…"
      ]
     },
     "metadata": {},
     "output_type": "display_data"
    }
   ],
   "source": [
    "# Set up side-by-side plots and initialize cobweb coordinate lists\n",
    "figs6, ax6 = plt.subplots(1, 2, figsize=(10, 4))\n",
    "cwx6 = np.zeros(2*COBWEB_MAX+2) # cobweb x-coordinates\n",
    "cwy6 = np.zeros_like(cwx6) # cobweb y-coordinates\n",
    "\n",
    "# Draw plot lines\n",
    "@widgets.interact(r=(1.25, 2.25, 0.05))\n",
    "def update6(r=1.5):\n",
    "    global ax6, cwx6, cwy6\n",
    "    \n",
    "    # Cobweb plot\n",
    "    ax6[0].clear()\n",
    "    ax6[0].set_xlim([0, 1.5])\n",
    "    ax6[0].set_ylim([0, 1.5])\n",
    "    ax6[0].grid(False)\n",
    "    ax6[0].set_title(\"Cobweb Plot\")\n",
    "    ax6[0].set_xlabel(\"$x_n$\")\n",
    "    ax6[0].set_ylabel(\"$x_{n+1}$\")\n",
    "    cobweb_update(0.25, cwx6, cwy6, r=r, mode=0)\n",
    "    ax6[0].plot(x, lmap(x, r=r), color=\"C0\")\n",
    "    ax6[0].plot(x, x, color=\"black\")\n",
    "    ax6[0].plot(cwx6[:2*COBWEB_MAX+1], cwy6[:2*COBWEB_MAX+1], color=\"C1\")\n",
    "    \n",
    "    # Scatter plot\n",
    "    ax6[1].clear()\n",
    "    ax6[1].set_ylim([0, 1.5])\n",
    "    ax6[1].grid(False)\n",
    "    ax6[1].set_title(\"Time Series\")\n",
    "    ax6[1].set_xlabel(\"$n$\")\n",
    "    ax6[1].set_ylabel(\"$x_n$\")\n",
    "    ax6[1].plot(np.append([0], nval[1:2*COBWEB_MAX+1:2]), np.append([0.25], cwy6[1:2*COBWEB_MAX+1:2]), color=\"C0\", marker=\".\", markersize=10)"
   ]
  },
  {
   "cell_type": "markdown",
   "id": "b736891e",
   "metadata": {},
   "source": [
    "When $r$ is still relatively low these oscillations dampen out and eventually give way to a stable population, but increasing $r$ eventually leads to periodic behavior similar to the alternating solution of $0.6, 1.2, 0.6, 1.2, \\dots$ discussed above.\n",
    "\n",
    "Increasing $r$ by still more leads to even more complicated behavior. Eventually we reach 4-periodic solutions, and then 8-periodic solutions, and then even higher periods."
   ]
  },
  {
   "cell_type": "code",
   "execution_count": 9,
   "id": "0e8bcf99",
   "metadata": {
    "jupyter": {
     "source_hidden": true
    },
    "tags": []
   },
   "outputs": [
    {
     "data": {
      "application/vnd.jupyter.widget-view+json": {
       "model_id": "8a1534c8390047bab8a427bac3717763",
       "version_major": 2,
       "version_minor": 0
      },
      "text/plain": [
       "Canvas(toolbar=Toolbar(toolitems=[('Home', 'Reset original view', 'home', 'home'), ('Back', 'Back to previous …"
      ]
     },
     "metadata": {},
     "output_type": "display_data"
    },
    {
     "data": {
      "application/vnd.jupyter.widget-view+json": {
       "model_id": "80694bda81984280b0297df7d7d2902f",
       "version_major": 2,
       "version_minor": 0
      },
      "text/plain": [
       "interactive(children=(FloatSlider(value=2.5, description='r', max=3.0, min=2.25, step=0.01), Output()), _dom_c…"
      ]
     },
     "metadata": {},
     "output_type": "display_data"
    }
   ],
   "source": [
    "# Set up side-by-side plots and initialize cobweb coordinate lists\n",
    "figs7, ax7 = plt.subplots(1, 2, figsize=(10, 4))\n",
    "cwx7 = np.zeros(2*COBWEB_MAX+2) # cobweb x-coordinates\n",
    "cwy7 = np.zeros_like(cwx7) # cobweb y-coordinates\n",
    "\n",
    "# Draw plot lines\n",
    "@widgets.interact(r=(2.25, 3.0, 0.01))\n",
    "def update7(r=2.5):\n",
    "    global ax7, cwx7, cwy7\n",
    "    \n",
    "    # Cobweb plot\n",
    "    ax7[0].clear()\n",
    "    ax7[0].set_xlim([0, 1.5])\n",
    "    ax7[0].set_ylim([0, 1.5])\n",
    "    ax7[0].grid(False)\n",
    "    ax7[0].set_title(\"Cobweb Plot\")\n",
    "    ax7[0].set_xlabel(\"$x_n$\")\n",
    "    ax7[0].set_ylabel(\"$x_{n+1}$\")\n",
    "    cobweb_update(0.25, cwx7, cwy7, r=r, mode=0)\n",
    "    ax7[0].plot(x, lmap(x, r=r), color=\"C0\")\n",
    "    ax7[0].plot(x, x, color=\"black\")\n",
    "    ax7[0].plot(cwx7[:2*COBWEB_MAX+1], cwy7[:2*COBWEB_MAX+1], color=\"C1\")\n",
    "    \n",
    "    # Scatter plot\n",
    "    ax7[1].clear()\n",
    "    ax7[1].set_ylim([0, 1.5])\n",
    "    ax7[1].grid(False)\n",
    "    ax7[1].set_title(\"Time Series\")\n",
    "    ax7[1].set_xlabel(\"$n$\")\n",
    "    ax7[1].set_ylabel(\"$x_n$\")\n",
    "    ax7[1].plot(np.append([0], nval[1:2*COBWEB_MAX+1:2]), np.append([0.25], cwy7[1:2*COBWEB_MAX+1:2]), color=\"C0\", marker=\".\", markersize=10)"
   ]
  },
  {
   "cell_type": "markdown",
   "id": "47459c34",
   "metadata": {},
   "source": [
    "Eventually when $r$ becomes large enough the behavior of the system becomes impossible to describe in terms of simple periodicity and we enter a region of <a href=\"https://en.wikipedia.org/wiki/Chaos_theory\" target=\"_blank\">chaos</a>.\n",
    "\n",
    "Chaotic behavior often arises in deceptively simple dynamical systems models. Like the simple systems seen earlier, chaotic systems are still deterministic in the sense that they produce exactly the same output when given exactly the same input, but they are extremely sensitive to minor changes in initial conditions."
   ]
  },
  {
   "cell_type": "code",
   "execution_count": 10,
   "id": "d765de7c",
   "metadata": {
    "jupyter": {
     "source_hidden": true
    },
    "tags": []
   },
   "outputs": [
    {
     "data": {
      "application/vnd.jupyter.widget-view+json": {
       "model_id": "1a95984840d743ba977321696ea236f2",
       "version_major": 2,
       "version_minor": 0
      },
      "text/plain": [
       "Canvas(toolbar=Toolbar(toolitems=[('Home', 'Reset original view', 'home', 'home'), ('Back', 'Back to previous …"
      ]
     },
     "metadata": {},
     "output_type": "display_data"
    },
    {
     "data": {
      "application/vnd.jupyter.widget-view+json": {
       "model_id": "8c4b9e9679ed41fca35ec4f0d98193bd",
       "version_major": 2,
       "version_minor": 0
      },
      "text/plain": [
       "interactive(children=(IntSlider(value=4, description='step', max=40), FloatSlider(value=1.5, description='r', …"
      ]
     },
     "metadata": {},
     "output_type": "display_data"
    }
   ],
   "source": [
    "# Set up side-by-side plots and initialize cobweb coordinate lists\n",
    "figs8, ax8 = plt.subplots(1, 2, figsize=(10, 4))\n",
    "cwx8 = np.zeros(2*COBWEB_MAX+2) # cobweb x-coordinates\n",
    "cwy8 = np.zeros_like(cwx8) # cobweb y-coordinates\n",
    "\n",
    "# Draw plot lines\n",
    "@widgets.interact(step=(0, 2*COBWEB_MAX, 1), r=(0.5, 3.0, 0.01), x0=(0.0, 1.25, 0.01))\n",
    "def update8(step=4, r=1.5, x0=0.25):\n",
    "    global ax8, cwx8, cwy8\n",
    "    \n",
    "    # Cobweb plot\n",
    "    ax8[0].clear()\n",
    "    ax8[0].set_xlim([0, 1.5])\n",
    "    ax8[0].set_ylim([0, 1.5])\n",
    "    ax8[0].grid(False)\n",
    "    ax8[0].set_title(\"Cobweb Plot\")\n",
    "    ax8[0].set_xlabel(\"$x_n$\")\n",
    "    ax8[0].set_ylabel(\"$x_{n+1}$\")\n",
    "    cobweb_update(x0, cwx8, cwy8, r=r, mode=0)\n",
    "    ax8[0].plot(x, lmap(x, r=r), color=\"C0\")\n",
    "    ax8[0].plot(x, x, color=\"black\")\n",
    "    ax8[0].plot(cwx8[:step+2], cwy8[:step+2], color=\"C1\")\n",
    "    ax8[0].plot(cwx8[step:step+2], cwy8[step:step+2], color=\"red\")\n",
    "    \n",
    "    # Scatter plot\n",
    "    ax8[1].clear()\n",
    "    ax8[1].set_ylim([0, 1.5])\n",
    "    ax8[1].grid(False)\n",
    "    ax8[1].set_title(\"Time Series\")\n",
    "    ax8[1].set_xlabel(\"$n$\")\n",
    "    ax8[1].set_ylabel(\"$x_n$\")\n",
    "    ax8[1].plot(np.append([0], nval[1:step+2:2]), np.append([x0], cwy8[1:step+2:2]), color=\"C0\", marker=\".\", markersize=10)\n",
    "    ax8[1].plot(nval[step+1], cwy8[step+1], color=\"red\", marker=\".\", markersize=10)"
   ]
  },
  {
   "cell_type": "markdown",
   "id": "c23c0b9b",
   "metadata": {},
   "source": [
    "Click and drag the sliders above to experiment with different growth rates $r$ and initial populations $x_0$, and observe how the population changes as the time steps advance."
   ]
  },
  {
   "cell_type": "markdown",
   "id": "fd82c8dc",
   "metadata": {},
   "source": [
    "### Cobweb Diagram with Multiple Equilibria\n",
    "\n",
    "Since cobweb diagrams can be used to estimate the behavior of a system around some equilibrium value, they can also be a valuable tool for classifying different equilibria. Solutions should generally approach stable equilibria and move away from unstable ones, and so if a system has multiple equilibria, a quick way to classify them is to draw several cobweb diagrams for different choices of initial solution.\n",
    "\n",
    "For example, consider a population model for a species with both an upper bound $U$ (representing, for example, resource limitations) _and_ a lower bound $L$ (representing, for example, a minimum breeding population) which takes the form\n",
    "\n",
    "\\begin{align*}\n",
    "\\Delta x_n = r x_n (L - x_n) (U - x_n)\n",
    "\\end{align*}\n",
    "\n",
    "This model has three equilibria: $x^* = 0$, $x^* = L$, and $x^* = U$, since setting $x_n$ to any of these values results in $\\Delta x_n = 0$. It's not immediately obvious which are stable and which are unstable, but a cobweb diagram can help."
   ]
  },
  {
   "cell_type": "code",
   "execution_count": 11,
   "id": "d66fc487",
   "metadata": {
    "jupyter": {
     "source_hidden": true
    },
    "tags": []
   },
   "outputs": [
    {
     "data": {
      "application/vnd.jupyter.widget-view+json": {
       "model_id": "bbc3a1f0c2de49efbe48f94218f3d345",
       "version_major": 2,
       "version_minor": 0
      },
      "text/plain": [
       "Canvas(toolbar=Toolbar(toolitems=[('Home', 'Reset original view', 'home', 'home'), ('Back', 'Back to previous …"
      ]
     },
     "metadata": {},
     "output_type": "display_data"
    },
    {
     "data": {
      "application/vnd.jupyter.widget-view+json": {
       "model_id": "905526b69edc4ba491dd1cf85a0108a9",
       "version_major": 2,
       "version_minor": 0
      },
      "text/plain": [
       "interactive(children=(FloatSlider(value=0.65, description='x0', max=1.25, step=0.01), Output()), _dom_classes=…"
      ]
     },
     "metadata": {},
     "output_type": "display_data"
    }
   ],
   "source": [
    "# Set up side-by-side plots and initialize cobweb coordinate lists\n",
    "figs9, ax9 = plt.subplots(1, 2, figsize=(10, 4))\n",
    "cwx9 = np.zeros(2*COBWEB_MAX+2) # cobweb x-coordinates\n",
    "cwy9 = np.zeros_like(cwx9) # cobweb y-coordinates\n",
    "\n",
    "# Draw plot lines\n",
    "@widgets.interact(x0=(0.0, 1.25, 0.01))\n",
    "def update9(x0=0.65):\n",
    "    global ax9, cwx9, cwy9\n",
    "    \n",
    "    # Cobweb plot\n",
    "    ax9[0].clear()\n",
    "    ax9[0].set_xlim([0, 1.5])\n",
    "    ax9[0].set_ylim([0, 1.5])\n",
    "    ax9[0].grid(False)\n",
    "    ax9[0].set_title(\"Cobweb Plot\")\n",
    "    ax9[0].set_xlabel(\"$x_n$\")\n",
    "    ax9[0].set_ylabel(\"$x_{n+1}$\")\n",
    "    cobweb_update(x0, cwx9, cwy9, r=1.5, mode=1)\n",
    "    ax9[0].plot(x, tmap(x, r=1.5), color=\"C0\")\n",
    "    ax9[0].plot(x, x, color=\"black\")\n",
    "    ax9[0].plot(cwx9[:2*COBWEB_MAX+1], cwy9[:2*COBWEB_MAX+1], color=\"C1\")\n",
    "    \n",
    "    # Scatter plot\n",
    "    ax9[1].clear()\n",
    "    ax9[1].set_ylim([0, 1.5])\n",
    "    ax9[1].grid(False)\n",
    "    ax9[1].set_title(\"Time Series\")\n",
    "    ax9[1].set_xlabel(\"$n$\")\n",
    "    ax9[1].set_ylabel(\"$x_n$\")\n",
    "    ax9[1].plot(np.append([0], nval[1:2*COBWEB_MAX+1:2]), np.append([x0], cwy9[1:2*COBWEB_MAX+1:2]), color=\"C0\", marker=\".\", markersize=10)"
   ]
  },
  {
   "cell_type": "markdown",
   "id": "be8fa7a7",
   "metadata": {},
   "source": [
    "Click and drag to change the initial population $x_0$.\n",
    "\n",
    "In this case we see that selecting an initial population just below or just above $U$ causes the solution to converge to $U$, making $x^* = U$ a stable equilibrium. Selecting an initial population on either side of $L$ causes the solution to diverge from $L$, making $x^* = L$ unstable. Between $0$ and $L$ the population decays to zero, and so $x^* = 0$ is also stable in this model, unlike in the logistic growth model, where it was unstable."
   ]
  },
  {
   "cell_type": "code",
   "execution_count": 12,
   "id": "a7aa3de2",
   "metadata": {
    "jupyter": {
     "source_hidden": true
    },
    "tags": []
   },
   "outputs": [
    {
     "data": {
      "application/vnd.jupyter.widget-view+json": {
       "model_id": "6795908e65c04deea91a1a95a48776a2",
       "version_major": 2,
       "version_minor": 0
      },
      "text/plain": [
       "Canvas(toolbar=Toolbar(toolitems=[('Home', 'Reset original view', 'home', 'home'), ('Back', 'Back to previous …"
      ]
     },
     "metadata": {},
     "output_type": "display_data"
    },
    {
     "data": {
      "application/vnd.jupyter.widget-view+json": {
       "model_id": "33ce4438bb0d4c69a34f576443521074",
       "version_major": 2,
       "version_minor": 0
      },
      "text/plain": [
       "interactive(children=(IntSlider(value=4, description='step', max=40), FloatSlider(value=1.5, description='r', …"
      ]
     },
     "metadata": {},
     "output_type": "display_data"
    }
   ],
   "source": [
    "# Set up side-by-side plots and initialize cobweb coordinate lists\n",
    "figs10, ax10 = plt.subplots(1, 2, figsize=(10, 4))\n",
    "cwx10 = np.zeros(2*COBWEB_MAX+2) # cobweb x-coordinates\n",
    "cwy10 = np.zeros_like(cwx10) # cobweb y-coordinates\n",
    "\n",
    "# Draw plot lines\n",
    "@widgets.interact(step=(0, 2*COBWEB_MAX, 1), r=(0.5, 4.0, 0.01), x0=(0.0, 1.25, 0.01))\n",
    "def update10(step=4, r=1.5, x0=0.65):\n",
    "    global ax10, cwx10, cwy10\n",
    "    \n",
    "    # Cobweb plot\n",
    "    ax10[0].clear()\n",
    "    ax10[0].set_xlim([0, 1.5])\n",
    "    ax10[0].set_ylim([0, 1.5])\n",
    "    ax10[0].grid(False)\n",
    "    ax10[0].set_title(\"Cobweb Plot\")\n",
    "    ax10[0].set_xlabel(\"$x_n$\")\n",
    "    ax10[0].set_ylabel(\"$x_{n+1}$\")\n",
    "    cobweb_update(x0, cwx10, cwy10, r=r, mode=1)\n",
    "    ax10[0].plot(x, tmap(x, r=r), color=\"C0\")\n",
    "    ax10[0].plot(x, x, color=\"black\")\n",
    "    ax10[0].plot(cwx10[:step+2], cwy10[:step+2], color=\"C1\")\n",
    "    ax10[0].plot(cwx10[step:step+2], cwy10[step:step+2], color=\"red\")\n",
    "    \n",
    "    # Scatter plot\n",
    "    ax10[1].clear()\n",
    "    ax10[1].set_ylim([0, 1.5])\n",
    "    ax10[1].grid(False)\n",
    "    ax10[1].set_title(\"Time Series\")\n",
    "    ax10[1].set_xlabel(\"$n$\")\n",
    "    ax10[1].set_ylabel(\"$x_n$\")\n",
    "    ax10[1].plot(np.append([0], nval[1:step+2:2]), np.append([x0], cwy10[1:step+2:2]), color=\"C0\", marker=\".\", markersize=10)\n",
    "    ax10[1].plot(nval[step+1], cwy10[step+1], color=\"red\", marker=\".\", markersize=10)"
   ]
  },
  {
   "cell_type": "markdown",
   "id": "4dd1fb58",
   "metadata": {},
   "source": [
    "The above widget includes sliders for intrinsic growth rate $r$ and the initial population $x_0$, for fixed capacities of $L = 0.5$ and $U = 1$. Experiment to see what happens when both the growth rate and the initial population are very large."
   ]
  },
  {
   "cell_type": "code",
   "execution_count": null,
   "id": "c4c23b2c",
   "metadata": {},
   "outputs": [],
   "source": []
  }
 ],
 "metadata": {
  "kernelspec": {
   "display_name": "Python 3",
   "language": "python",
   "name": "python3"
  },
  "language_info": {
   "codemirror_mode": {
    "name": "ipython",
    "version": 3
   },
   "file_extension": ".py",
   "mimetype": "text/x-python",
   "name": "python",
   "nbconvert_exporter": "python",
   "pygments_lexer": "ipython3",
   "version": "3.9.1"
  }
 },
 "nbformat": 4,
 "nbformat_minor": 5
}
