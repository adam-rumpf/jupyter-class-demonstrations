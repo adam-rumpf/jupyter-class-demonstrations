{
 "cells": [
  {
   "cell_type": "markdown",
   "id": "cec9fff9",
   "metadata": {},
   "source": [
    "# Taylor Polynomial Approximations\n",
    "\n",
    "Adam Rumpf\n",
    "\n",
    "Created 4/17/21\n",
    "\n",
    "Based on a <a href=\"https://github.com/adam-rumpf/mathematica-class-demonstrations#taylor-and-fourier-series-approximations\" target=\"_blank\">Mathematica class demonstration</a>.\n",
    "\n",
    "See a standalone version of the main Taylor polynomial widget (shown [below](#Taylor-Series)) [here](./taylor-series-standalone.ipynb).\n",
    "\n",
    "[Main Project Page](.././index.ipynb)"
   ]
  },
  {
   "cell_type": "code",
   "execution_count": 1,
   "id": "dfb02326",
   "metadata": {
    "jupyter": {
     "source_hidden": true
    },
    "tags": []
   },
   "outputs": [],
   "source": [
    "# Initialization code\n",
    "\n",
    "%matplotlib widget\n",
    "import ipywidgets as widgets\n",
    "import matplotlib.pyplot as plt\n",
    "import numpy as np\n",
    "import scipy as sp\n",
    "\n",
    "# Define parameters\n",
    "INF = 100 # out-of-bounds value\n",
    "LIM = 10 # axis bounds\n",
    "\n",
    "# Define functions and derivatives\n",
    "def d_sin(x, n=0):\n",
    "    \"\"\"n-th derivative of sin(x).\"\"\"\n",
    "    \n",
    "    r = n % 4\n",
    "    if r == 0:\n",
    "        return np.sin(x)\n",
    "    elif r == 1:\n",
    "        return np.cos(x)\n",
    "    elif r == 2:\n",
    "        return -np.sin(x)\n",
    "    elif r == 3:\n",
    "        return -np.cos(x)\n",
    "\n",
    "def d_cos(x, n=0):\n",
    "    \"\"\"n-th derivative of cos(x).\"\"\"\n",
    "    \n",
    "    return d_sin(x, n=n+1)\n",
    "\n",
    "def d_exp(x, n=0):\n",
    "    \"\"\"n-th derivative of exp(x).\"\"\"\n",
    "    \n",
    "    return np.exp(x)\n",
    "\n",
    "def d_log(x, n=0):\n",
    "    \"\"\"n-th derivative of log(x+1).\"\"\"\n",
    "    \n",
    "    if n == 0:\n",
    "        return np.log(x+1)\n",
    "    else:\n",
    "        return (np.math.factorial(n-1) * (-1)**(n+1)) / (x+1)**n\n",
    "\n",
    "def d_bell(x, n=0):\n",
    "    \"\"\"n-th derivative of a bell curve.\"\"\"\n",
    "    \n",
    "    out = np.exp(-(x**2)/5) * 5**(-(n-1))\n",
    "    if n == 0:\n",
    "        return out\n",
    "    elif n == 1 or n == 2:\n",
    "        out *= -2\n",
    "        if n == 1:\n",
    "            out *= x\n",
    "        elif n == 2:\n",
    "            out *= 5 - 2*(x**2)\n",
    "    elif n == 3 or n == 4:\n",
    "        out *= 4\n",
    "        if n == 3:\n",
    "            out *= (15 - 2*(x**2))*x\n",
    "        elif n == 4:\n",
    "            out *= 75 - 60*(x**2) + 4*(x**4)\n",
    "    elif n == 5 or n == 6:\n",
    "        out *= -8\n",
    "        if n == 5:\n",
    "            out *= (375 - 100*(x**2) + 4*(x**4))*x\n",
    "        elif n == 6:\n",
    "            out *= 1875 - 2250*(x**2) + 300*(x**4) - 8*(x**6)\n",
    "    elif n == 7 or n == 8:\n",
    "        out *= 16\n",
    "        if n == 7:\n",
    "            out *= (13125 - 5250*(x**2) + 420*(x**4) - 8*(x**6))*x\n",
    "        elif n == 8:\n",
    "            out *= 65625 - 105000*(x**2) + 21000*(x**4) - 1120*(x**6) + 16*(x**8)\n",
    "    elif n == 9 or n == 10:\n",
    "        out *= -32\n",
    "        if n == 9:\n",
    "            out *= (590625 - 315000*(x**2) + 37800*(x**4) + 1440*(x**6) + 16*(x**8))*x\n",
    "        elif n == 10:\n",
    "            out *= 2953125 - 5906250*(x**2) + 1575000*(x**4) - 126000*(x**6) + 3600*(x**8) - 32*(x**10)\n",
    "    return out\n",
    "\n",
    "def d_poly(x, n=0):\n",
    "    \"\"\"n-th derivative of a polynomial function.\"\"\"\n",
    "    \n",
    "    if n == 0:\n",
    "        return 0.35 + x*(0.16 + x*(-0.1875 + x*(0.005 + x*0.0025)))\n",
    "    elif n == 1:\n",
    "        return 0.16 + x*(-0.375 + x*(0.015 + x*0.01))\n",
    "    elif n == 2:\n",
    "        return -0.375 + x*(0.03 + x*0.03)\n",
    "    elif n == 3:\n",
    "        return 0.03 + x*0.06\n",
    "    elif n == 4:\n",
    "        return 0.06 + x*0.0\n",
    "    else:\n",
    "        return x*0.0\n",
    "\n",
    "def d_ratio(x, n=0):\n",
    "    \"\"\"n-th derivative of 1/(x+1).\"\"\"\n",
    "    \n",
    "    return ((-1)**n)/((x+1)**(n+1))\n",
    "\n",
    "# Define a dictionary of function definitions\n",
    "func = {}\n",
    "func[\"sine\"] = d_sin\n",
    "func[\"cosine\"] = d_cos\n",
    "func[\"exponential\"] = d_exp\n",
    "func[\"logarithm\"] = d_log\n",
    "func[\"bell curve\"] = d_bell\n",
    "func[\"polynomial\"] = d_poly\n",
    "func[\"rational\"] = d_ratio\n",
    "\n",
    "# Define a dictionary of function name strings\n",
    "func_name = {}\n",
    "func_name[\"sine\"] = \"$\\sin x$\"\n",
    "func_name[\"cosine\"] = \"$\\cos x$\"\n",
    "func_name[\"exponential\"] = \"$e^x$\"\n",
    "func_name[\"logarithm\"] = \"$\\log(x+1)$\"\n",
    "func_name[\"bell curve\"] = \"$5e^{-x^2/5}$\"\n",
    "func_name[\"polynomial\"] = \"$0.35 + 0.16x - 0.1875x^2 + 0.005x^3 + 0.0025x^4$\"\n",
    "func_name[\"rational\"] = \"$1/(x+1)$\"\n",
    "\n",
    "# Define Taylor polynomial\n",
    "def taylor(x, fname, a, n):\n",
    "    \"\"\"Taylor polynomial for a given function.\n",
    "    \n",
    "    Positional arguments:\n",
    "    x - input value\n",
    "    fname - key from 'func' dictionary\n",
    "    a - center\n",
    "    n - polynomial degree\n",
    "    \"\"\"\n",
    "    \n",
    "    out = 0.0 # output value\n",
    "    \n",
    "    # Add terms of Taylor polynomial\n",
    "    for i in range(n+1):\n",
    "        out += (func[fname](a, n=i) / np.math.factorial(i)) * (x-a)**i\n",
    "    \n",
    "    return out\n",
    "\n",
    "xbase = np.linspace(-LIM, LIM, 101) # base x-values"
   ]
  },
  {
   "cell_type": "markdown",
   "id": "0afc330e",
   "metadata": {},
   "source": [
    "## Motivation for Polynomial Approximation\n",
    "\n",
    "In computational mathematics it's often useful to approximate a complicated function using a simpler one. This could be because the real function we're interested in is computationally expensive to evaluate, or because it leads to overly-complicated analytical results, or because it's actually unknown (as is the case in solving differential equations). However, as long as we have a bit of information about our function for one particular input, and as long as we only need to move a small distance away from that single known input, we may be able to reasonably approximate its value within a small range.\n",
    "\n",
    "Specifically, suppose we have a function $f(x)$ that we would like to approximate around some input value $a$. Our goal is to find a \"simple\" function $p(x)$ that is \"approximately equal\" to $f(x)$ for values of $x$ \"near\" $a$. That is,\n",
    "\n",
    "\\begin{align*}\n",
    "\\text{Find the polynomial $p(x)$ that is as close as possible to $f(x)$ near $a$.}\n",
    "\\end{align*}\n",
    "\n",
    "There are lots of reasonable choices for what kind of function we could choose $p$ to be, but we happen to get some particularly nice results when we look at the case of $p$ being a polynomial."
   ]
  },
  {
   "cell_type": "markdown",
   "id": "da8a5d94",
   "metadata": {},
   "source": [
    "## Building Up a Polynomial Approximation\n",
    "\n",
    "Intuitively our goal is to define a polynomial $p(x)$ that is as close as possible to $f(x)$ near $a$. How exactly we do that depends on the degree of the polynomial, so let's go through the process of building up a sequence of increasingly-complicated degree-$n$ approximations $p_n$ to see whether we find any patterns that can be generalized."
   ]
  },
  {
   "cell_type": "markdown",
   "id": "afe74d4c",
   "metadata": {},
   "source": [
    "### Constant Approximation\n",
    "\n",
    "What degree-zero polynomial $p_0(x) = c_0$ does the best job of approximating $f(x)$ near $a$?\n",
    "\n",
    "A degree-zero polynomial is constant, so our only real job is to choose which constant value $c_0$ we want $p_0(x)$ to have. Since we've only been told to care about the input value $a$, the only thing we can really do is to guarantee that $p_0$ approximates $f$ exactly when $x=a$ by setting $c_0 = f(a)$. Then we get\n",
    "\n",
    "\\begin{align*}\n",
    "p_0(x) &= f(a)\n",
    "\\end{align*}"
   ]
  },
  {
   "cell_type": "code",
   "execution_count": 2,
   "id": "fe7ae489",
   "metadata": {
    "jupyter": {
     "source_hidden": true
    },
    "tags": []
   },
   "outputs": [
    {
     "data": {
      "application/vnd.jupyter.widget-view+json": {
       "model_id": "f29e8c6761144086bab7b9447eccc957",
       "version_major": 2,
       "version_minor": 0
      },
      "text/plain": [
       "Canvas(toolbar=Toolbar(toolitems=[('Home', 'Reset original view', 'home', 'home'), ('Back', 'Back to previous …"
      ]
     },
     "metadata": {},
     "output_type": "display_data"
    },
    {
     "data": {
      "application/vnd.jupyter.widget-view+json": {
       "model_id": "c40b2b7f19b148308d0a4b4896b7bb7f",
       "version_major": 2,
       "version_minor": 0
      },
      "text/plain": [
       "interactive(children=(FloatSlider(value=0.0, description='a', max=10.0, min=-10.0, step=0.05), Output()), _dom…"
      ]
     },
     "metadata": {},
     "output_type": "display_data"
    }
   ],
   "source": [
    "# Set up plot\n",
    "fig1, ax1 = plt.subplots()\n",
    "\n",
    "# Draw plot lines\n",
    "@widgets.interact(a=(-LIM, LIM, 0.05))\n",
    "def update1(a=0.0):\n",
    "    \n",
    "    global ax\n",
    "    fname = \"polynomial\"\n",
    "    n=0\n",
    "    a0 = a\n",
    "    \n",
    "    # Generate function values\n",
    "    x = np.linspace(-LIM, LIM, 101)\n",
    "    \n",
    "    # Redraw plot\n",
    "    ax1.clear()\n",
    "    ax1.set_xlim([-LIM, LIM])\n",
    "    ax1.set_ylim([-LIM, LIM])\n",
    "    ax1.set_aspect(1)\n",
    "    ax1.grid(False)\n",
    "    ax1.set_xlabel(\"x\")\n",
    "    ax1.set_ylabel(\"y\")\n",
    "    ax1.plot(x, func[fname](x), color=\"C0\")\n",
    "    ax1.plot(xbase, taylor(xbase, fname, a0, n), color=\"C1\")\n",
    "    ax1.plot(a0, func[fname](a0), color=\"C1\", marker=\".\", markersize=10)"
   ]
  },
  {
   "cell_type": "markdown",
   "id": "a98b4d43",
   "metadata": {},
   "source": [
    "The above widget shows a constant approximation of a function. Click and drag the slider bar to adjust the center of the approximation, $a$.\n",
    "\n",
    "This is an okay approximation as long as the function value doesn't change very quickly around $a$, but otherwise $f(x)$ quickly diverges from $p_0(x)$ as $x$ moves further from $a$. However, we can try to fix that by using a more complicated polynomial approximation that takes this rate of change into account."
   ]
  },
  {
   "cell_type": "markdown",
   "id": "772d2b4f",
   "metadata": {},
   "source": [
    "### Linear Approximation\n",
    "\n",
    "What degree-one polynomial $p_1(x) = c_0 + c_1 x$ does the best job of approximating $f(x)$ near $a$?\n",
    "\n",
    "A degree-one polynomial is linear, which gives us one additional coefficient to manipulate: Not only can we control the value of $p_1(x)$ and $a$, we can also control its _slope_. We certainly want to keep the property that $p_1(a) = f(a)$, since that means that $p_1(x)$ is as close as possible to $f(x)$ when $x$ is exactly equal to $a$, but what slope should we choose to make $p_1(x)$ as close to $f(x)$ as possible as we move away from $a$?"
   ]
  },
  {
   "cell_type": "code",
   "execution_count": 3,
   "id": "a9708f48",
   "metadata": {
    "jupyter": {
     "source_hidden": true
    },
    "tags": []
   },
   "outputs": [
    {
     "data": {
      "application/vnd.jupyter.widget-view+json": {
       "model_id": "3f8623f114f74b9c9c8e29db58b972b3",
       "version_major": 2,
       "version_minor": 0
      },
      "text/plain": [
       "Canvas(toolbar=Toolbar(toolitems=[('Home', 'Reset original view', 'home', 'home'), ('Back', 'Back to previous …"
      ]
     },
     "metadata": {},
     "output_type": "display_data"
    },
    {
     "data": {
      "application/vnd.jupyter.widget-view+json": {
       "model_id": "0fb58f7885dc4f03a1adfc8683ee126a",
       "version_major": 2,
       "version_minor": 0
      },
      "text/plain": [
       "interactive(children=(FloatSlider(value=0.5, description='slope', max=4.0, min=-4.0, step=0.05), Output()), _d…"
      ]
     },
     "metadata": {},
     "output_type": "display_data"
    }
   ],
   "source": [
    "# Set up plot\n",
    "fig2, ax2 = plt.subplots()\n",
    "\n",
    "# Draw plot lines\n",
    "@widgets.interact(slope=(-4.0, 4.0, 0.05))\n",
    "def update2(slope=0.5):\n",
    "    \n",
    "    global ax\n",
    "    fname = \"polynomial\"\n",
    "    a0 = -1.0\n",
    "    \n",
    "    # Generate function values\n",
    "    x = np.linspace(-LIM, LIM, 101)\n",
    "    \n",
    "    # Redraw plot\n",
    "    ax2.clear()\n",
    "    ax2.set_xlim([-LIM, LIM])\n",
    "    ax2.set_ylim([-LIM, LIM])\n",
    "    ax2.set_aspect(1)\n",
    "    ax2.grid(False)\n",
    "    ax2.set_xlabel(\"x\")\n",
    "    ax2.set_ylabel(\"y\")\n",
    "    ax2.plot(x, func[fname](x), color=\"C0\")\n",
    "    ax2.plot(xbase, func[fname](a0) + slope*(xbase - a0), color=\"C1\")\n",
    "    ax2.plot(a0, func[fname](a0), color=\"C1\", marker=\".\", markersize=10)"
   ]
  },
  {
   "cell_type": "markdown",
   "id": "4cad64f2",
   "metadata": {},
   "source": [
    "The above widget shows a linear approximation of a function. Click and drag the slider bar to adjust the slope.\n",
    "\n",
    "Intuitively we would like to choose the slope of $p_1(x)$ to match the slope of $f(x)$ as closely as possible near $a$, which we can do by setting the slope of $p_1(x)$ to equal the derivative of $f$ at $a$, or $f'(a)$.\n",
    "\n",
    "Since we know that $p_1(x)$ should be a line passing through point $(a,f(a))$ with slope $f'(a)$, we can apply the point-slope formula for a line to arrive at the formula\n",
    "\n",
    "\\begin{align*}\n",
    "p_1(x) &= f(a) + f'(a) \\, (x-a)\n",
    "\\end{align*}\n",
    "\n",
    "(Alternatively, we could arrive at this by beginning with the special case of $a=0$, in which case $(a,f(a)) = (0,f(0))$ is the same as the $y$-intercept and we can apply the slope-intercept formula to get $p_1(x) = f(a) + f'(a) \\, x$. To generalize this to any $a$ we simply need to horizontally shift the $a=0$ graph by $a$ units by replacing $x$ with $x-a$, which gives the general linearization above.)\n",
    "\n",
    "This is known as the _linear approximation_ of $f$ at $a$, and it appears as an essential part of many advanced numerical algorithms (such as the <a href=\"https://en.wikipedia.org/wiki/Newton%27s_method\" target=\"_blank\">Newton-Raphson method</a> for root finding and <a href=\"https://en.wikipedia.org/wiki/Euler_method\" target=\"_blank\">Euler's method</a> for numerical differential equation solution). Geometrically it is equivalent to finding the tangent line of $f$ at $a$."
   ]
  },
  {
   "cell_type": "code",
   "execution_count": 4,
   "id": "1d38a503",
   "metadata": {
    "jupyter": {
     "source_hidden": true
    },
    "tags": []
   },
   "outputs": [
    {
     "data": {
      "application/vnd.jupyter.widget-view+json": {
       "model_id": "112816ad81944316884bb208a310cf29",
       "version_major": 2,
       "version_minor": 0
      },
      "text/plain": [
       "Canvas(toolbar=Toolbar(toolitems=[('Home', 'Reset original view', 'home', 'home'), ('Back', 'Back to previous …"
      ]
     },
     "metadata": {},
     "output_type": "display_data"
    },
    {
     "data": {
      "application/vnd.jupyter.widget-view+json": {
       "model_id": "96ed491fc40e4f20bbe7cb383b3db0fa",
       "version_major": 2,
       "version_minor": 0
      },
      "text/plain": [
       "interactive(children=(FloatSlider(value=0.0, description='a', max=10.0, min=-10.0, step=0.05), Output()), _dom…"
      ]
     },
     "metadata": {},
     "output_type": "display_data"
    }
   ],
   "source": [
    "# Set up plot\n",
    "fig3, ax3 = plt.subplots()\n",
    "\n",
    "# Draw plot lines\n",
    "@widgets.interact(a=(-LIM, LIM, 0.05))\n",
    "def update3(a=0.0):\n",
    "    \n",
    "    global ax\n",
    "    fname = \"polynomial\"\n",
    "    a0 = a\n",
    "    n = 1\n",
    "    \n",
    "    # Generate function values\n",
    "    x = np.linspace(-LIM, LIM, 101)\n",
    "    \n",
    "    # Redraw plot\n",
    "    ax3.clear()\n",
    "    ax3.set_xlim([-LIM, LIM])\n",
    "    ax3.set_ylim([-LIM, LIM])\n",
    "    ax3.set_aspect(1)\n",
    "    ax3.grid(False)\n",
    "    ax3.set_xlabel(\"x\")\n",
    "    ax3.set_ylabel(\"y\")\n",
    "    ax3.plot(x, func[fname](x), color=\"C0\")\n",
    "    ax3.plot(xbase, taylor(xbase, fname, a0, n), color=\"C1\")\n",
    "    ax3.plot(a0, func[fname](a0), color=\"C1\", marker=\".\", markersize=10)"
   ]
  },
  {
   "cell_type": "markdown",
   "id": "84b2a892",
   "metadata": {},
   "source": [
    "The above widget shows a linear approximation of a function, with its function value and slope automatically chosen to match those of the function at the center. Click and drag the slider bar to adjust the center of the approximation, $a$.\n",
    "\n",
    "This is an okay approximation as long as the _slope_ of the function doesn't change very quickly around $a$, but if $f(x)$ curves very sharply then the linear approximation does not remain reasonable as $x$ moves away from $a$. So our next goal is to take this curvature into account."
   ]
  },
  {
   "cell_type": "markdown",
   "id": "88d790f2",
   "metadata": {},
   "source": [
    "### Quadratic Approximation\n",
    "\n",
    "What degree-two polynomial $p_2(x) = c_0 + c_1 x + c_2 x^2$ does the best job of approximating $f(x)$ near $a$?\n",
    "\n",
    "Since the previous two approximations consisted of ensuring that our polynomial would have the same function value as $f$ at $a$ (i.e. $p(a) = f(a)$) and the same slope as $f$ at $a$ (i.e. $p'(a) = f'(a)$), a reasonable next goal might be to ensure the correct _curvature_ as $f$ at $a$ (i.e. $p''(a) = f''(a)$). Looking at the previous two approximations, we might notice that the degree-zero approximation appears within the degree-one approximation,\n",
    "\n",
    "\\begin{align*}\n",
    "p_0(x) &= f(a) \\\\\n",
    "p_1(x) &= f(a) + f'(a) \\, (x-a)\n",
    "\\end{align*}\n",
    "\n",
    "This might cause us to wonder whether the solution could be as simple as just adding a third term to the polynomial of the form $c_2 (x-a)^2$, similar to how the previous approximation consisted of adding a second term of the form $c_1 (x-a)$. If such a thing were possible, we would want to choose $c_2$ in order to ensure that we maintain our previous two properties (that $p_2(a) = f(a)$ and $p'_2(a) = f'(a)$), but now also that $p''_2(a) = f''(a)$."
   ]
  },
  {
   "cell_type": "code",
   "execution_count": 5,
   "id": "90a6dc54",
   "metadata": {
    "jupyter": {
     "source_hidden": true
    },
    "tags": []
   },
   "outputs": [
    {
     "data": {
      "application/vnd.jupyter.widget-view+json": {
       "model_id": "60b20ba05a534ed6ad0197c594369d53",
       "version_major": 2,
       "version_minor": 0
      },
      "text/plain": [
       "Canvas(toolbar=Toolbar(toolitems=[('Home', 'Reset original view', 'home', 'home'), ('Back', 'Back to previous …"
      ]
     },
     "metadata": {},
     "output_type": "display_data"
    },
    {
     "data": {
      "application/vnd.jupyter.widget-view+json": {
       "model_id": "d71f0e0a4ba64675ad86a8c821ae6068",
       "version_major": 2,
       "version_minor": 0
      },
      "text/plain": [
       "interactive(children=(FloatSlider(value=-0.1, description='curvature', max=2.0, min=-2.0, step=0.05), Output()…"
      ]
     },
     "metadata": {},
     "output_type": "display_data"
    }
   ],
   "source": [
    "# Set up plot\n",
    "fig4, ax4 = plt.subplots()\n",
    "\n",
    "# Draw plot lines\n",
    "@widgets.interact(curvature=(-2.0, 2.0, 0.05))\n",
    "def update4(curvature=-0.1):\n",
    "    \n",
    "    global ax\n",
    "    fname = \"polynomial\"\n",
    "    a0 = -1.0\n",
    "    \n",
    "    # Generate function values\n",
    "    x = np.linspace(-LIM, LIM, 101)\n",
    "    \n",
    "    # Redraw plot\n",
    "    ax4.clear()\n",
    "    ax4.set_xlim([-LIM, LIM])\n",
    "    ax4.set_ylim([-LIM, LIM])\n",
    "    ax4.set_aspect(1)\n",
    "    ax4.grid(False)\n",
    "    ax4.set_xlabel(\"x\")\n",
    "    ax4.set_ylabel(\"y\")\n",
    "    ax4.plot(x, func[fname](x), color=\"C0\")\n",
    "    ax4.plot(xbase, taylor(x, fname, a0, 1) + curvature*(x - a0)**2, color=\"C1\")\n",
    "    ax4.plot(a0, func[fname](a0), color=\"C1\", marker=\".\", markersize=10)"
   ]
  },
  {
   "cell_type": "markdown",
   "id": "de61495e",
   "metadata": {},
   "source": [
    "The above widget shows a quadratic approximation of a function. Click and drag the slider bar to adjust the curvature.\n",
    "\n",
    "This goal helps to explain why adding a third term of the form $c_2 (x-a)^2$ will help to give us the desired properties. The function value of $p_2$ at $a$ is\n",
    "\n",
    "\\begin{align*}\n",
    "p_2(x) &= f(a) + f'(a) \\, (x-a) + c_2 \\, (x-a)^2 \\\\\n",
    "\\implies p_2(a) &= f(a) + f'(a) \\, (a-a) + c_2 \\, (a-a)^2 \\\\\n",
    "&= f(a)\n",
    "\\end{align*}\n",
    "\n",
    "which is the same function value as $f$ at $a$, as desired. The factor of $(x-a)$ in all non-constant terms vanishes when $x=a$, leaving only the constant term $f(a)$. Therefore we see that the constant term $f(a)$ is solely responsible for the function value of $p_2$ at $a$.\n",
    "\n",
    "Likewise, the first derivative of $p_2$ at $a$ is\n",
    "\n",
    "\\begin{align*}\n",
    "p'_2(x) &= f'(a) + 2c_2 \\, (x-a) \\\\\n",
    "\\implies p'_2(a) &= f'(a) + 2c_2 \\, (a-a) \\\\\n",
    "&= f'(a)\n",
    "\\end{align*}\n",
    "\n",
    "which is the same first derivative as $f$ at $a$, also as desired. The constant term $f(a)$ disappears when evaluating the first derivative and the quadratic term retains a factor of $(x-a)$ which vanishes when $x=a$, this time leaving only the coefficient of the linear term $f'(a)$. Therefore the linear term $f'(a)$ is solely responsible for the first derivative of $p_2$ at $a$.\n",
    "\n",
    "Now to choose the quadratic coefficient $c_2$ to ensure that $p_2$ has the same second derivative as $f$ at $a$. Evaluating the second derivative, we are left with simply\n",
    "\n",
    "\\begin{align*}\n",
    "p''_2(x) &= 2c_2\n",
    "\\end{align*}\n",
    "\n",
    "so in order to have $p''_2(a) = f''(a)$ we can simply choose $c_2 = \\frac{1}{2} f''(a)$. In this case the quadratic term $\\frac{1}{2} f''(a)$ is solely responsible for the second derivative of $p_2$ at $a$, but we need to be careful to apply a factor of $\\frac{1}{2}$ to account for the power rule being applied to $(x-a)^2$ in evaluating the second derivative of $p_2$. The full quadratic approximation is then\n",
    "\n",
    "\\begin{align*}\n",
    "p_2(x) = f(a) + f'(a) \\, (x-a) + \\frac{1}{2} f''(a) \\, (x-a)^2\n",
    "\\end{align*}"
   ]
  },
  {
   "cell_type": "code",
   "execution_count": 6,
   "id": "e38137b6",
   "metadata": {
    "jupyter": {
     "source_hidden": true
    },
    "tags": []
   },
   "outputs": [
    {
     "data": {
      "application/vnd.jupyter.widget-view+json": {
       "model_id": "0592dab20aa9484190ab5251ee7dcd59",
       "version_major": 2,
       "version_minor": 0
      },
      "text/plain": [
       "Canvas(toolbar=Toolbar(toolitems=[('Home', 'Reset original view', 'home', 'home'), ('Back', 'Back to previous …"
      ]
     },
     "metadata": {},
     "output_type": "display_data"
    },
    {
     "data": {
      "application/vnd.jupyter.widget-view+json": {
       "model_id": "67e8769dd3c34c92aa1e15c4c64382bd",
       "version_major": 2,
       "version_minor": 0
      },
      "text/plain": [
       "interactive(children=(FloatSlider(value=0.0, description='a', max=10.0, min=-10.0, step=0.05), Output()), _dom…"
      ]
     },
     "metadata": {},
     "output_type": "display_data"
    }
   ],
   "source": [
    "# Set up plot\n",
    "fig5, ax5 = plt.subplots()\n",
    "\n",
    "# Draw plot lines\n",
    "@widgets.interact(a=(-LIM, LIM, 0.05))\n",
    "def update5(a=0.0):\n",
    "    \n",
    "    global ax\n",
    "    fname = \"polynomial\"\n",
    "    a0 = a\n",
    "    n = 2\n",
    "    \n",
    "    # Generate function values\n",
    "    x = np.linspace(-LIM, LIM, 101)\n",
    "    \n",
    "    # Redraw plot\n",
    "    ax5.clear()\n",
    "    ax5.set_xlim([-LIM, LIM])\n",
    "    ax5.set_ylim([-LIM, LIM])\n",
    "    ax5.set_aspect(1)\n",
    "    ax5.grid(False)\n",
    "    ax5.set_xlabel(\"x\")\n",
    "    ax5.set_ylabel(\"y\")\n",
    "    ax5.plot(x, func[fname](x), color=\"C0\")\n",
    "    ax5.plot(xbase, taylor(xbase, fname, a0, n), color=\"C1\")\n",
    "    ax5.plot(a0, func[fname](a0), color=\"C1\", marker=\".\", markersize=10)"
   ]
  },
  {
   "cell_type": "markdown",
   "id": "87d4568d",
   "metadata": {},
   "source": [
    "The above widget shows a quadratic approximation of a function, with its function value, slope, and now curvature automatically chosen to match those of the function at the center. Click and drag the slider bar to adjust the center of the approximation, $a$.\n",
    "\n",
    "In developing this most recent approximation we came upon an extremely useful property: If we set up our polynomial approximation in the right way, we can ensure that every term except for one vanishes when we evaluate a derivative of the polynomial at $a$, which then allows us to select each coefficient of the polynomial to independently define one of the derivatives of the polynomial at $a$. This process can be easily generalized to obtain a degree-$n$ polynomial whose first $n$ derivatives ($0$ through $n-1$) all match those of $f$ at $a$, since each new derivative can be matched by simply adding one new term to the polynomial without needing to change any of the previous ones.\n",
    "\n",
    "However, we also saw in the previous example that some of these coefficients require an additional factor, so it might be helpful to go through the next couple of approximations by hand to work out the general form."
   ]
  },
  {
   "cell_type": "markdown",
   "id": "c05cc694",
   "metadata": {},
   "source": [
    "### Cubic Approximations\n",
    "\n",
    "What degree-three polynomial $p_3(x) = c_0 + c_1 x + c_2 x^2 + c_3 x^3$ does the best job of approximating $f(x)$ near $a$?\n",
    "\n",
    "Picking up from the previous example, we might imagine that the next approximation has the form\n",
    "\n",
    "\\begin{align*}\n",
    "p_3(x) &= f(a) + f'(a) \\, (x-a) + \\frac{1}{2} f''(a) \\, (x-a)^2 + c_3 \\, (x-a)^3\n",
    "\\end{align*}\n",
    "\n",
    "From the previous example we know that this polynomial satisfies the properties $p_3(a) = f(a)$, $p'_3(a) = f'(a)$, and $p''_3(a) = f''(a)$, since the lone new term includes a factor of $(x-a)$ which vanishes at $x=a$ in the zeroth, first, and second derivatives of $p_3$. By the time we evaluate the third derivative, all previous terms have vanished, leaving only\n",
    "\n",
    "\\begin{align*}\n",
    "p'''_3(x) &= 3 \\cdot 2 \\cdot c_3\n",
    "\\end{align*}\n",
    "\n",
    "with the factors of $3$ and $2$ left over from the first two applications of the power rule to $(x-a)^3$. In order to have $p'''_3(a) = f'''(a)$ we should then choose $c_3 = \\frac{1}{6} f'''(a)$, for a cubic approximation of\n",
    "\n",
    "\\begin{align*}\n",
    "p_3(x) = f(a) + f'(a) \\, (x-a) + \\frac{1}{2} f''(a) \\, (x-a)^2 + \\frac{1}{6} f'''(a) \\, (x-a)^3\n",
    "\\end{align*}"
   ]
  },
  {
   "cell_type": "code",
   "execution_count": 7,
   "id": "6e95a426",
   "metadata": {
    "jupyter": {
     "source_hidden": true
    },
    "tags": []
   },
   "outputs": [
    {
     "data": {
      "application/vnd.jupyter.widget-view+json": {
       "model_id": "8d7422e7435947f0b539aaea9de23f80",
       "version_major": 2,
       "version_minor": 0
      },
      "text/plain": [
       "Canvas(toolbar=Toolbar(toolitems=[('Home', 'Reset original view', 'home', 'home'), ('Back', 'Back to previous …"
      ]
     },
     "metadata": {},
     "output_type": "display_data"
    },
    {
     "data": {
      "application/vnd.jupyter.widget-view+json": {
       "model_id": "d2a6ce6afbff4b71bff3527db84e2cc0",
       "version_major": 2,
       "version_minor": 0
      },
      "text/plain": [
       "interactive(children=(FloatSlider(value=0.0, description='a', max=10.0, min=-10.0, step=0.05), Output()), _dom…"
      ]
     },
     "metadata": {},
     "output_type": "display_data"
    }
   ],
   "source": [
    "# Set up plot\n",
    "fig6, ax6 = plt.subplots()\n",
    "\n",
    "# Draw plot lines\n",
    "@widgets.interact(a=(-LIM, LIM, 0.05))\n",
    "def update6(a=0.0):\n",
    "    \n",
    "    global ax\n",
    "    fname = \"polynomial\"\n",
    "    a0 = a\n",
    "    n = 3\n",
    "    \n",
    "    # Generate function values\n",
    "    x = np.linspace(-LIM, LIM, 101)\n",
    "    \n",
    "    # Redraw plot\n",
    "    ax6.clear()\n",
    "    ax6.set_xlim([-LIM, LIM])\n",
    "    ax6.set_ylim([-LIM, LIM])\n",
    "    ax6.set_aspect(1)\n",
    "    ax6.grid(False)\n",
    "    ax6.set_xlabel(\"x\")\n",
    "    ax6.set_ylabel(\"y\")\n",
    "    ax6.plot(x, func[fname](x), color=\"C0\")\n",
    "    ax6.plot(xbase, taylor(xbase, fname, a0, n), color=\"C1\")\n",
    "    ax6.plot(a0, func[fname](a0), color=\"C1\", marker=\".\", markersize=10)"
   ]
  },
  {
   "cell_type": "markdown",
   "id": "fb043965",
   "metadata": {},
   "source": [
    "### Quartic Approximations\n",
    "\n",
    "What degree-four polynomial $p_4(x) = c_0 + c_1 x + c_2 x^2 + c_3 x^3 + c_4 x^4$ does the best job of approximating $f(x)$ near $a$?\n",
    "\n",
    "Going through a process similar to the above cases, we find that the new term must be $\\frac{1}{24} f^{(4)}(a) \\, (x-a)^4$, with the factor of $\\frac{1}{24}$ to compensate for applying the power rule to $(x-a)^4$ four times. This pattern can be seen more easily if we write $\\frac{1}{4!}$ in place of $\\frac{1}{24}$, to show that the division by $4! = 4 \\cdot 3 \\cdot 2 \\cdot 1$ compensates for the four applications of the power rule. Then the quartic approximation is\n",
    "\n",
    "\\begin{align*}\n",
    "p_4(x) &= f(a) + f'(a) \\, (x-a) + \\frac{f''(a)}{2} (x-a)^2 + \\frac{f'''(a)}{3!} (x-a)^3 + \\frac{f^{(4)}(a)}{4!} (x-a)^4\n",
    "\\end{align*}"
   ]
  },
  {
   "cell_type": "markdown",
   "id": "a3bc7638",
   "metadata": {},
   "source": [
    "### Generalizing Polynomial Approximations\n",
    "\n",
    "From our previous work we can see that adding more, higher-degree terms of a certain form allows us to match more, higher-order derivatives of $f$ at $a$. Intuitively this allows the polynomial approximation to match $f$ more closely over a larger range of inputs since it allows the polynomial to compensate for changes in the lower-order derivatives (matching the slope allows us to account for a rapidly-changing function value, matching curvature allows us to account for a rapidly-changing slope, etc.). The general form of the degree-$n$ term is\n",
    "\n",
    "\\begin{align*}\n",
    "\\frac{f^{(n)}(a)}{n!} (x-a)^n\n",
    "\\end{align*}\n",
    "\n",
    "with a factor of $\\frac{1}{n!}$ to compensate for $n$ applications of the power rule to $(x-a)^n$. This term is solely responsible for defining the $n$th derivative of $p_n(x)$, and ensures that $p_n^{(n)}(a) = f^{(a)}(a)$.\n",
    "\n",
    "Written using summation notation, the degree-$n$ polynomial approximation of $f$ at $a$ is\n",
    "\n",
    "\\begin{align*}\n",
    "p_n(x) = \\sum_{m=0}^n \\frac{f^{(m)}(a)}{m!} (x-a)^m\n",
    "\\end{align*}\n",
    "\n",
    "Polynomial approximations of this form are called <a href=\"https://en.wikipedia.org/wiki/Taylor_series\" target=\"_blank\">Taylor polynomials</a>, and are used extensively throughout numerical analysis. In addition to the approximation applications discussed above, Taylor polynomials are often used in deriving error bounds and convergence criteria for numerical methods, since there are good theoertical bounds that can be placed on how close $p_n(x)$ is to $f(x)$."
   ]
  },
  {
   "cell_type": "markdown",
   "id": "2d5219b6",
   "metadata": {},
   "source": [
    "## Taylor Series\n",
    "\n",
    "While we set out with the goal of finding a \"simple\" function (a polynomial) that would be \"close\" to $f$ \"near\" $a$, one of the most surprising results about Taylor polynomials is that, for many functions, this sequence of polynomial approximations can actually be extended to include infinitely many terms, at which point they cease to simply _approximate_ $f$ near $a$ and actually become exactly _equal_ to $f$ over the entire real line. This allows us to write $f(x)$ as an equivalent infinite series\n",
    "\n",
    "\\begin{align*}\n",
    "f(x) = \\sum_{n=0}^\\infty \\frac{f^{(n)}(a)}{n!} (x-a)^n\n",
    "\\end{align*}\n",
    "\n",
    "This is called the _Taylor series_ of $f$ at $a$, and it is an important tool used extensively throughout mathematical analysis since the resulting series is often easier to use or analyze than the original function.\n",
    "\n",
    "The widget below allows the user to select from a small handful of simple functions to see their Taylor polynomial approximations for various centers $a$ and degrees $n$. Note that some functions are extremely close to their Taylor polynomial approximations for a large range of values around $a$, while others don't seem able to be approximated well over a large range."
   ]
  },
  {
   "cell_type": "code",
   "execution_count": 8,
   "id": "924ee6a9",
   "metadata": {
    "jupyter": {
     "source_hidden": true
    },
    "tags": []
   },
   "outputs": [
    {
     "data": {
      "application/vnd.jupyter.widget-view+json": {
       "model_id": "65b2fbe0472d429b80ccf09b90c2a0ef",
       "version_major": 2,
       "version_minor": 0
      },
      "text/plain": [
       "Canvas(toolbar=Toolbar(toolitems=[('Home', 'Reset original view', 'home', 'home'), ('Back', 'Back to previous …"
      ]
     },
     "metadata": {},
     "output_type": "display_data"
    },
    {
     "data": {
      "application/vnd.jupyter.widget-view+json": {
       "model_id": "2a6f3f6bfcb94da5983e6adf7942c61a",
       "version_major": 2,
       "version_minor": 0
      },
      "text/plain": [
       "interactive(children=(Dropdown(description='fname', options=('sine', 'cosine', 'exponential', 'logarithm', 'be…"
      ]
     },
     "metadata": {},
     "output_type": "display_data"
    }
   ],
   "source": [
    "# Set up plot\n",
    "fig, ax = plt.subplots()\n",
    "xbase = np.linspace(-LIM, LIM, 101) # base x-values\n",
    "\n",
    "# Draw plot lines\n",
    "@widgets.interact(fname=func.keys(), a=(-LIM, LIM, 0.05), n=(0, 10, 1))\n",
    "def update_final(fname=\"sine\", a=0.0, n=1):\n",
    "    \n",
    "    global ax\n",
    "    a0 = a\n",
    "    \n",
    "    # Generate function values\n",
    "    if fname == \"logarithm\":\n",
    "        x = np.linspace(-0.99, LIM, 101)\n",
    "        a0 = max(a0, -0.9)\n",
    "    elif fname == \"rational\":\n",
    "        x = np.linspace(-LIM, LIM, 100)\n",
    "        if a0 == -1.0:\n",
    "            a0 += 0.05\n",
    "    else:\n",
    "        x = np.linspace(-LIM, LIM, 101)\n",
    "    y = np.zeros_like(x)\n",
    "    \n",
    "    # Redraw plot\n",
    "    ax.clear()\n",
    "    ax.set_xlim([-LIM, LIM])\n",
    "    ax.set_ylim([-LIM, LIM])\n",
    "    ax.set_aspect(1)\n",
    "    plt.title(func_name[fname])\n",
    "    ax.grid(False)\n",
    "    ax.set_xlabel(\"x\")\n",
    "    ax.set_ylabel(\"y\")\n",
    "    ax.plot(x, func[fname](x), color=\"C0\")\n",
    "    y = taylor(xbase, fname, a0, n)\n",
    "    ax.plot(xbase, y, color=\"C1\")\n",
    "    ax.plot(a0, func[fname](a0), color=\"C1\", marker=\".\", markersize=10)\n",
    "    if fname in {\"logarithm\", \"rational\"}:\n",
    "        ax.plot([-1, -1], [-INF, INF], color=\"white\")\n",
    "        ax.plot([-1, -1], [-INF, INF], color=\"black\", linestyle=\"dashed\")"
   ]
  },
  {
   "cell_type": "code",
   "execution_count": null,
   "id": "12d489db",
   "metadata": {},
   "outputs": [],
   "source": []
  }
 ],
 "metadata": {
  "kernelspec": {
   "display_name": "Python 3",
   "language": "python",
   "name": "python3"
  },
  "language_info": {
   "codemirror_mode": {
    "name": "ipython",
    "version": 3
   },
   "file_extension": ".py",
   "mimetype": "text/x-python",
   "name": "python",
   "nbconvert_exporter": "python",
   "pygments_lexer": "ipython3",
   "version": "3.9.1"
  }
 },
 "nbformat": 4,
 "nbformat_minor": 5
}
