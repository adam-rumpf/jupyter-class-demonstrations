{
 "cells": [
  {
   "cell_type": "markdown",
   "id": "2863830b",
   "metadata": {},
   "source": [
    "# Taylor Polynomial Approximations\n",
    "\n",
    "Adam Rumpf\n",
    "\n",
    "Created 4/13/21\n",
    "\n",
    "Based on a previous [Mathematica class demonstration](https://github.com/adam-rumpf/mathematica-class-demonstrations#taylor-and-fourier-series-approximations).\n",
    "\n",
    "Find more Jupyter Notebook class demonstrations [here](https://github.com/adam-rumpf/jupyter-class-demonstrations).\n",
    "\n",
    "## Introduction\n",
    "\n",
    "This demonstration defines two Manipulate environments to explore the construction of Taylor series approximation. It includes a dropdown menu to select an example function and a slider to select a number of terms. The display will show a plot of the function along with its approximation of the specified degree. The center of the approximation can be chosen using a slider.\n",
    "\n",
    "The purpose of this demonstration is to illustrate the effects of adding more terms to the approximation, and how in general this causes the approximation to be closer to the original function over a larger area. Unusual features, like discontinuity, may cause problems for the Taylor approximation, but less of a problem for the Fourier approximation. The Taylor approximation is generally best near its center."
   ]
  },
  {
   "cell_type": "markdown",
   "id": "e24e6207",
   "metadata": {},
   "source": [
    "**Outline**\n",
    "\n",
    "* Introducing problem of estimating a function value as closely as possible near $a$ using a limited-degree polynomial.\n",
    "  * Still images of good polynomial approximations.\n",
    "* For $n=0$, the only real choice is to match $p(a) = f(a)$.\n",
    "  * Playing with an example.\n",
    "* Explaining linearization, which is a major and useful concept on its own, and how we define the tangent line in caclulus.\n",
    "  * Playing with an example of linearization.\n",
    "* Extending to quadratic approximations and the $\\frac{1}{2}$ factor.\n",
    "  * Playing with an example of quadratic approximations.\n",
    "* Building up the approximations to explain where the $n!$ divisor comes from.\n",
    "* Defining Taylor polynomials.\n",
    "  * Playing with Taylor approximations.\n",
    "* Alluding to some examples of what Taylor polynomials are used for, how the error term works, Taylor series, and intervals of convergence."
   ]
  },
  {
   "cell_type": "code",
   "execution_count": 1,
   "id": "f03a7e39",
   "metadata": {},
   "outputs": [
    {
     "data": {
      "application/vnd.jupyter.widget-view+json": {
       "model_id": "326dc2cc16f54dceb67add7730e5a03d",
       "version_major": 2,
       "version_minor": 0
      },
      "text/plain": [
       "Canvas(toolbar=Toolbar(toolitems=[('Home', 'Reset original view', 'home', 'home'), ('Back', 'Back to previous …"
      ]
     },
     "metadata": {},
     "output_type": "display_data"
    },
    {
     "data": {
      "application/vnd.jupyter.widget-view+json": {
       "model_id": "7729b2b9e3f34a1ebe538890daa07081",
       "version_major": 2,
       "version_minor": 0
      },
      "text/plain": [
       "interactive(children=(FloatSlider(value=0.0, description='a', max=6.283185307179586, min=-6.283185307179586, s…"
      ]
     },
     "metadata": {},
     "output_type": "display_data"
    }
   ],
   "source": [
    "%matplotlib widget\n",
    "import ipywidgets as widgets\n",
    "import matplotlib.pyplot as plt\n",
    "import numpy as np\n",
    "\n",
    "# Define function derivatives\n",
    "def f0(x):\n",
    "    return np.sin(x)\n",
    "def f1(x):\n",
    "    return np.cos(x)\n",
    "def f2(x):\n",
    "    return -np.sin(x)\n",
    "def f3(x):\n",
    "    return -np.cos(x)\n",
    "def g0(x):\n",
    "    return np.exp(x)\n",
    "\n",
    "# Define function lists\n",
    "func = [[f0, f1, f2, f3]*2, [f1, f2, f3, f0]*2, [g0]*8]\n",
    "fname = [\"sin(x)\", \"cos(x)\", \"exp(x)\"]\n",
    "\n",
    "# Define Taylor polynomial\n",
    "def taylor(x, fid, a, n):\n",
    "    \"\"\"Taylor polynomial for a given function.\n",
    "    \n",
    "    Positional arguments:\n",
    "    x - input value\n",
    "    fid - function ID from 'func' list\n",
    "    a - center\n",
    "    n - polynomial degree\n",
    "    \"\"\"\n",
    "    \n",
    "    global func\n",
    "    \n",
    "    out = 0.0 # output value\n",
    "    \n",
    "    # Add terms of Taylor polynomial\n",
    "    for i in range(n+1):\n",
    "        out += (func[fid][i](a)/np.math.factorial(i))*(x - a)**i\n",
    "    \n",
    "    return out\n",
    "\n",
    "# Set up plot\n",
    "fig, ax = plt.subplots()\n",
    "\n",
    "# Generate x values\n",
    "x = np.linspace(-2*np.pi, 2*np.pi, 101)\n",
    "y = np.zeros_like(x) # initialize Taylor output array\n",
    "\n",
    "# Draw plot lines\n",
    "@widgets.interact(a=(-2*np.pi, 2*np.pi, 0.05), f=(0, 2, 1), n=(0, 7, 1))\n",
    "def update1(a=0.0, f=0, n=1):\n",
    "    global ax, y\n",
    "    ax.clear()\n",
    "    ax.set_ylim([-4, 4])\n",
    "    plt.title(fname[f])\n",
    "    ax.grid(True)\n",
    "    ax.set_xlabel(\"x\")\n",
    "    ax.set_ylabel(\"y\")\n",
    "    ax.plot(x, func[f][0](x), color=\"C0\")\n",
    "    y = taylor(x, f, a, n)\n",
    "    ax.plot(x, y, color=\"C1\")\n",
    "    ax.plot(a, func[f][0](a), color=\"C1\", marker=\".\", markersize=10)"
   ]
  },
  {
   "cell_type": "code",
   "execution_count": null,
   "id": "133865fb",
   "metadata": {},
   "outputs": [],
   "source": []
  }
 ],
 "metadata": {
  "kernelspec": {
   "display_name": "Python 3",
   "language": "python",
   "name": "python3"
  },
  "language_info": {
   "codemirror_mode": {
    "name": "ipython",
    "version": 3
   },
   "file_extension": ".py",
   "mimetype": "text/x-python",
   "name": "python",
   "nbconvert_exporter": "python",
   "pygments_lexer": "ipython3",
   "version": "3.9.1"
  }
 },
 "nbformat": 4,
 "nbformat_minor": 5
}
