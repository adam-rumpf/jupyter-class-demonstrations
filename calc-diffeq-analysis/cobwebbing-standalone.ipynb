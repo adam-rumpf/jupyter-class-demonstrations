{
 "cells": [
  {
   "cell_type": "markdown",
   "id": "3fe82da5",
   "metadata": {},
   "source": [
    "# Cobwebbing\n",
    "\n",
    "Adam Rumpf\n",
    "\n",
    "Created 4/18/21\n",
    "\n",
    "Based on a <a href=\"https://github.com/adam-rumpf/mathematica-class-demonstrations#cobwebbing\" target=\"_blank\">Mathematica class demonstration</a>.\n",
    "\n",
    "This is a standalone widget for playing around with cobweb diagrams for various dynamical systems. See the full notebook [here](./cobwebbing.ipynb).\n",
    "\n",
    "See more Jupyter Notebook class demonstrations <a href=\"https://github.com/adam-rumpf/jupyter-class-demonstrations\" target=\"_blank\">here</a>."
   ]
  },
  {
   "cell_type": "code",
   "execution_count": 88,
   "id": "4c301ce5",
   "metadata": {},
   "outputs": [
    {
     "data": {
      "application/vnd.jupyter.widget-view+json": {
       "model_id": "a4557c57e2af4640af7cd89104511e00",
       "version_major": 2,
       "version_minor": 0
      },
      "text/plain": [
       "Canvas(toolbar=Toolbar(toolitems=[('Home', 'Reset original view', 'home', 'home'), ('Back', 'Back to previous …"
      ]
     },
     "metadata": {},
     "output_type": "display_data"
    },
    {
     "data": {
      "application/vnd.jupyter.widget-view+json": {
       "model_id": "5a3e87c5737b493fb01228d940e8e479",
       "version_major": 2,
       "version_minor": 0
      },
      "text/plain": [
       "interactive(children=(FloatSlider(value=2.0, description='r', max=4.0, min=0.5), FloatSlider(value=0.25, descr…"
      ]
     },
     "metadata": {},
     "output_type": "display_data"
    }
   ],
   "source": [
    "%matplotlib widget\n",
    "import ipywidgets as widgets\n",
    "import matplotlib.pyplot as plt\n",
    "import numpy as np\n",
    "\n",
    "# Define parameters\n",
    "COBWEB_MAX = 20 # number of cobweb iterations to generate\n",
    "\n",
    "# Define functions\n",
    "\n",
    "def lmap(x, lim=1.0, r=1.0):\n",
    "    \"\"\"Discrete logistic map.\n",
    "    \n",
    "    Positional arguments:\n",
    "    x - input value\n",
    "    \n",
    "    Keyword arguments:\n",
    "    lim (1.0) - population limit\n",
    "    r (1.0) - intrinsic growth rate\n",
    "    \"\"\"\n",
    "    \n",
    "    return x + r*x*(lim-x)\n",
    "\n",
    "def cobweb_update(x0, lim=1.0, r=1.0, mode=0):\n",
    "    \"\"\"Updates the global cobweb lists.\n",
    "    \n",
    "    Positional arguments:\n",
    "    x0 - initial population value\n",
    "    \n",
    "    Keyword arguments:\n",
    "    lim (1.0) - population limit\n",
    "    r (1.0) - intrinsic growth rate\n",
    "    mode (0) - 0 for absolute harvesting, 1 for relative harvesting\n",
    "    \"\"\"\n",
    "    \n",
    "    global cwx, cwy\n",
    "    \n",
    "    # Generate cobweb coordinates\n",
    "    cwx[0] = x0\n",
    "    cwy[0] = 0.0\n",
    "    for i in range(0, 2*COBWEB_MAX, 2):\n",
    "        cwx[i+1] = cwx[i]\n",
    "        cwy[i+1] = max(lmap(cwx[i], r=r), 0.0)\n",
    "        cwx[i+2] = cwy[i+1]\n",
    "        cwy[i+2] = cwy[i+1]\n",
    "    cwx[-1] = cwx[-2]\n",
    "    cwy[-1] = max(lmap(cwx[-1], r=r), 0.0)\n",
    "\n",
    "# Set up side-by-side plots\n",
    "figs, (ax1, ax2) = plt.subplots(1, 2, figsize=(10, 4))\n",
    "\n",
    "# Generate x- and n-values\n",
    "x = np.linspace(0, 1.5, 101)\n",
    "nval = [np.floor((n+1)/2) for n in range(2*COBWEB_MAX+2)]\n",
    "\n",
    "# Initialize cobweb lists\n",
    "cwx = np.zeros(2*COBWEB_MAX+2) # cobweb x-coordinates\n",
    "cwy = np.zeros_like(cwx) # cobweb y-coordinates\n",
    "\n",
    "# Draw plot lines\n",
    "@widgets.interact(r=(0.5, 4.0, 0.1), x0=(0.0, 1.25, 0.01), step=(0, 2*COBWEB_MAX, 1))\n",
    "def update1(r=2.0, x0=0.25, step=np.math.floor(COBWEB_MAX/4)):\n",
    "    global ax1, ax2, cwx, cwy\n",
    "    figs.suptitle(\"Discrete Logistic Growth\")\n",
    "    \n",
    "    # Cobweb plot\n",
    "    ax1.clear()\n",
    "    ax1.set_xlim([0, 1.5])\n",
    "    ax1.set_ylim([0, 1.5])\n",
    "    ax1.grid(False)\n",
    "    ax1.set_xlabel(\"$x_n$\")\n",
    "    ax1.set_ylabel(\"$x_{n+1}$\")\n",
    "    cobweb_update(x0, r=r, mode=0)\n",
    "    ax1.plot(x, lmap(x, r=r), color=\"C0\")\n",
    "    ax1.plot(x, x, color=\"black\")\n",
    "    ax1.plot(cwx[:step+2], cwy[:step+2], color=\"C1\")\n",
    "    ax1.plot(cwx[step:step+2], cwy[step:step+2], color=\"red\")\n",
    "    \n",
    "    # Scatter plot\n",
    "    ax2.clear()\n",
    "    ax2.set_ylim([0, len(nval)])\n",
    "    ax2.set_ylim([0, 1.5])\n",
    "    ax2.grid(False)\n",
    "    ax2.set_xlabel(\"$n$\")\n",
    "    ax2.set_ylabel(\"$x$\")\n",
    "    ax2.plot(np.append([0], nval[1:step+2:2]), np.append([x0], cwy[1:step+2:2]), color=\"C0\", marker=\".\", markersize=10)\n",
    "    ax2.plot(nval[step+1], cwy[step+1], color=\"red\", marker=\".\", markersize=10)\n"
   ]
  },
  {
   "cell_type": "code",
   "execution_count": null,
   "id": "7f2ff4ec",
   "metadata": {},
   "outputs": [],
   "source": []
  }
 ],
 "metadata": {
  "kernelspec": {
   "display_name": "Python 3",
   "language": "python",
   "name": "python3"
  },
  "language_info": {
   "codemirror_mode": {
    "name": "ipython",
    "version": 3
   },
   "file_extension": ".py",
   "mimetype": "text/x-python",
   "name": "python",
   "nbconvert_exporter": "python",
   "pygments_lexer": "ipython3",
   "version": "3.9.1"
  }
 },
 "nbformat": 4,
 "nbformat_minor": 5
}
