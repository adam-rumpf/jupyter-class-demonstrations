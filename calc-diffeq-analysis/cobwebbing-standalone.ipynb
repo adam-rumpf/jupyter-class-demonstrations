{
 "cells": [
  {
   "cell_type": "markdown",
   "id": "88c3e4c8",
   "metadata": {},
   "source": [
    "# Cobwebbing\n",
    "\n",
    "Adam Rumpf\n",
    "\n",
    "Created 4/18/21\n",
    "\n",
    "Based on a <a href=\"https://github.com/adam-rumpf/mathematica-class-demonstrations#cobwebbing\" target=\"_blank\">Mathematica class demonstration</a>.\n",
    "\n",
    "This is a standalone widget for playing around with cobweb diagrams for various dynamical systems. See the full notebook [here](./cobwebbing.ipynb).\n",
    "\n",
    "See more Jupyter Notebook class demonstrations <a href=\"https://github.com/adam-rumpf/jupyter-class-demonstrations\" target=\"_blank\">here</a>."
   ]
  },
  {
   "cell_type": "code",
   "execution_count": 1,
   "id": "899d9f8a",
   "metadata": {},
   "outputs": [
    {
     "data": {
      "application/vnd.jupyter.widget-view+json": {
       "model_id": "70199d9526464a21b25b72bcac3ae093",
       "version_major": 2,
       "version_minor": 0
      },
      "text/plain": [
       "Canvas(toolbar=Toolbar(toolitems=[('Home', 'Reset original view', 'home', 'home'), ('Back', 'Back to previous …"
      ]
     },
     "metadata": {},
     "output_type": "display_data"
    },
    {
     "data": {
      "application/vnd.jupyter.widget-view+json": {
       "model_id": "086520af2d1d4c439d8728a776b527ef",
       "version_major": 2,
       "version_minor": 0
      },
      "text/plain": [
       "interactive(children=(Dropdown(description='mode', options=('absolute', 'relative'), value='absolute'), FloatS…"
      ]
     },
     "metadata": {},
     "output_type": "display_data"
    }
   ],
   "source": [
    "%matplotlib widget\n",
    "import ipywidgets as widgets\n",
    "import matplotlib.pyplot as plt\n",
    "import numpy as np\n",
    "\n",
    "# Define parameters\n",
    "COBWEB_MAX = 10 # number of cobweb iterations to generate\n",
    "\n",
    "# Define functions\n",
    "\n",
    "def lmap_abs(x, lim=1.0, r=1.0, h=0.0):\n",
    "    \"\"\"Discrete logistic map with absolute harvesting.\n",
    "    \n",
    "    Positional arguments:\n",
    "    x - input value\n",
    "    \n",
    "    Keyword arguments:\n",
    "    lim (1.0) - population limit\n",
    "    r (1.0) - intrinsic growth rate\n",
    "    h (0.0) - harvesting rate\n",
    "    \"\"\"\n",
    "    \n",
    "    return x + r*x*(lim-x) - h\n",
    "\n",
    "def lmap_rel(x, lim=1.0, r=1.0, h=0.0):\n",
    "    \"\"\"Discrete logistic map with relative harvesting.\n",
    "    \n",
    "    Positional arguments:\n",
    "    x - input value\n",
    "    \n",
    "    Keyword arguments:\n",
    "    lim (1.0) - population limit\n",
    "    r (1.0) - intrinsic growth rate\n",
    "    h (0.0) - harvesting rate\n",
    "    \"\"\"\n",
    "    \n",
    "    return x + max(r-h, 0.0)*x*(lim-x)\n",
    "\n",
    "def cobweb_update(x0, lim=1.0, r=1.0, h=0.0, mode=0):\n",
    "    \"\"\"Updates the global cobweb lists.\n",
    "    \n",
    "    Positional arguments:\n",
    "    x0 - initial population value\n",
    "    \n",
    "    Keyword arguments:\n",
    "    lim (1.0) - population limit\n",
    "    r (1.0) - intrinsic growth rate\n",
    "    h (0.0) - harvesting rate\n",
    "    mode (0) - 0 for absolute harvesting, 1 for relative harvesting\n",
    "    \"\"\"\n",
    "    \n",
    "    global cwx, cwy\n",
    "    \n",
    "    # Initialize cobweb coordinates\n",
    "    cwx[0] = x0\n",
    "    cwy[0] = 0.0\n",
    "    \n",
    "    # Absolute harvesting\n",
    "    if mode == 0:\n",
    "        for i in range(0, 2*COBWEB_MAX, 2):\n",
    "            cwx[i+1] = cwx[i]\n",
    "            cwy[i+1] = max(lmap_abs(cwx[i], r=r, h=h), 0.0)\n",
    "            cwx[i+2] = cwy[i+1]\n",
    "            cwy[i+2] = cwy[i+1]\n",
    "    \n",
    "    # Relative harvesting\n",
    "    elif mode == 1:\n",
    "        for i in range(0, 2*COBWEB_MAX, 2):\n",
    "            cwx[i+1] = cwx[i]\n",
    "            cwy[i+1] = max(lmap_rel(cwx[i], r=r, h=h), 0.0)\n",
    "            cwx[i+2] = cwy[i+1]\n",
    "            cwy[i+2] = cwy[i+1]\n",
    "\n",
    "# Set up plot\n",
    "fig, ax = plt.subplots()\n",
    "\n",
    "# Generate x values\n",
    "x = np.linspace(0, 1.5, 101)\n",
    "\n",
    "# Initialize cobweb lists\n",
    "cwx = np.zeros(2*COBWEB_MAX+1) # cobweb x-coordinates\n",
    "cwy = np.zeros_like(cwx) # cobweb y-coordinates\n",
    "\n",
    "# Draw plot lines\n",
    "@widgets.interact(mode=[\"absolute\", \"relative\"], r=(0.5, 4.0, 0.1), h=(0.0, 1.0, 0.05), x0=(0.0, 1.25, 0.01), step=(0, 2*COBWEB_MAX, 1))\n",
    "def update1(mode=\"absolute\", r=2.0, h=0.0, x0=0.25, step=np.math.floor(COBWEB_MAX/4)):\n",
    "    global ax, cwx, cwy\n",
    "    ax.clear()\n",
    "    ax.set_ylim([0, 1.5])\n",
    "    ax.grid(False)\n",
    "    ax.set_xlabel(\"$x_n$\")\n",
    "    ax.set_ylabel(\"$x_{n+1}$\")\n",
    "    if mode == \"absolute\":\n",
    "        plt.title(\"Discrete Logistic Growth with Absolute Harvesting\")\n",
    "        cobweb_update(x0, r=r, h=h, mode=0)\n",
    "        ax.plot(x, lmap_abs(x, r=r, h=h), color=\"C0\")\n",
    "    elif mode == \"relative\":\n",
    "        plt.title(\"Discrete Logistic Growth with Relative Harvesting\")\n",
    "        cobweb_update(x0, r=r, h=h, mode=1)\n",
    "        ax.plot(x, lmap_rel(x, r=r, h=h), color=\"C0\")\n",
    "    ax.plot(x, x, color=\"black\")\n",
    "    ax.plot(cwx[:step+1], cwy[:step+1], color=\"C1\")\n",
    "\n",
    "### Try to find a way to plot the cobweb diagram side-by-side with a line graph of the current population"
   ]
  },
  {
   "cell_type": "code",
   "execution_count": null,
   "id": "439166bd",
   "metadata": {},
   "outputs": [],
   "source": []
  }
 ],
 "metadata": {
  "kernelspec": {
   "display_name": "Python 3",
   "language": "python",
   "name": "python3"
  },
  "language_info": {
   "codemirror_mode": {
    "name": "ipython",
    "version": 3
   },
   "file_extension": ".py",
   "mimetype": "text/x-python",
   "name": "python",
   "nbconvert_exporter": "python",
   "pygments_lexer": "ipython3",
   "version": "3.9.1"
  }
 },
 "nbformat": 4,
 "nbformat_minor": 5
}
