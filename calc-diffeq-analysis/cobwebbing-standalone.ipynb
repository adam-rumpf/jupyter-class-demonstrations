{
 "cells": [
  {
   "cell_type": "markdown",
   "id": "8c3c7640",
   "metadata": {},
   "source": [
    "# Cobwebbing\n",
    "\n",
    "Adam Rumpf\n",
    "\n",
    "Created 4/20/21\n",
    "\n",
    "Based on a <a href=\"https://github.com/adam-rumpf/mathematica-class-demonstrations#cobwebbing\" target=\"_blank\">Mathematica class demonstration</a>.\n",
    "\n",
    "This is a standalone widget for playing around with cobweb diagrams for various dynamical systems. See the full notebook [here](./cobwebbing.ipynb).\n",
    "\n",
    "[Main Project Page](.././index.ipynb)"
   ]
  },
  {
   "cell_type": "code",
   "execution_count": 1,
   "id": "6908591c",
   "metadata": {
    "jupyter": {
     "source_hidden": true
    },
    "tags": []
   },
   "outputs": [
    {
     "data": {
      "application/vnd.jupyter.widget-view+json": {
       "model_id": "3bef08f5c01a404d882dc299cd92dba8",
       "version_major": 2,
       "version_minor": 0
      },
      "text/plain": [
       "Canvas(toolbar=Toolbar(toolitems=[('Home', 'Reset original view', 'home', 'home'), ('Back', 'Back to previous …"
      ]
     },
     "metadata": {},
     "output_type": "display_data"
    },
    {
     "data": {
      "application/vnd.jupyter.widget-view+json": {
       "model_id": "a5ce052032b748a488a1be5ad117214d",
       "version_major": 2,
       "version_minor": 0
      },
      "text/plain": [
       "interactive(children=(IntSlider(value=4, description='step', max=40), FloatSlider(value=1.5, description='r', …"
      ]
     },
     "metadata": {},
     "output_type": "display_data"
    }
   ],
   "source": [
    "%matplotlib widget\n",
    "import ipywidgets as widgets\n",
    "import matplotlib.pyplot as plt\n",
    "import numpy as np\n",
    "\n",
    "# Define parameters\n",
    "COBWEB_MAX = 20 # number of cobweb iterations to generate\n",
    "\n",
    "# Define functions\n",
    "\n",
    "def lmap(x, lim=1.0, r=1.0, h=0.0):\n",
    "    \"\"\"Discrete logistic map with absolute harvesting.\n",
    "    \n",
    "    Positional arguments:\n",
    "    x - input value\n",
    "    \n",
    "    Keyword arguments:\n",
    "    lim (1.0) - population limit\n",
    "    r (1.0) - intrinsic growth rate\n",
    "    \"\"\"\n",
    "    \n",
    "    return x + r*x*(1 - (x/lim)) - h\n",
    "\n",
    "def tmap(x, lb=0.5, ub=1.0, r=1.0):\n",
    "    \"\"\"Discrete population growth with upper and lower stable population bounds.\n",
    "    \n",
    "    Positional arguments:\n",
    "    x - input value\n",
    "    \n",
    "    Keyword arguments:\n",
    "    lb (0.5) - lower population limit\n",
    "    ub (1.0) - upper population limit\n",
    "    r (1.0) - intrinsic growth rate\n",
    "    \"\"\"\n",
    "    \n",
    "    return x + r*x*(x-lb)*(ub-x)\n",
    "\n",
    "def mmap(x, r=0.0):\n",
    "    \"\"\"Discrete map meant to have an adjustable slope at one of its equlibria.\n",
    "    \n",
    "    Positional arguments:\n",
    "    x - input value\n",
    "    \n",
    "    Keyword arguments:\n",
    "    r (0.0) - slope at intermediate equilibrium point (<= 1.5)\n",
    "    \"\"\"\n",
    "    \n",
    "    a = 4 - 4*r\n",
    "    return (a*x*x - 1.5*a*x + (1.0 + 0.5*a))*x\n",
    "\n",
    "def cobweb_update(x0, cwx, cwy, lim=1.0, r=1.0, mode=0):\n",
    "    \"\"\"Updates the global cobweb lists. Lists are edited in-place.\n",
    "    \n",
    "    Positional arguments:\n",
    "    x0 - initial population value\n",
    "    cwx - reference to a list of cobweb plot x-values\n",
    "    cwy - reference to a list of cobweb plot y-values\n",
    "    \n",
    "    Keyword arguments:\n",
    "    lim (1.0) - population limit\n",
    "    r (1.0) - intrinsic growth rate\n",
    "    mode (0) - 0 for logistic with harvesting, 1 for bounded population, 2 for slope map\n",
    "    \"\"\"\n",
    "    \n",
    "    # Generate cobweb coordinates\n",
    "    cwx[0] = x0\n",
    "    cwy[0] = 0.0\n",
    "    for i in range(0, 2*COBWEB_MAX, 2):\n",
    "        cwx[i+1] = cwx[i]\n",
    "        if mode == 0:\n",
    "            cwy[i+1] = max(lmap(cwx[i], r=r), 0.0)\n",
    "        elif mode == 1:\n",
    "            cwy[i+1] = max(tmap(cwx[i], r=r), 0.0)\n",
    "        elif mode == 2:\n",
    "            cwy[i+1] = max(mmap(cwx[i], r=r), 0.0)\n",
    "        cwx[i+2] = cwy[i+1]\n",
    "        cwy[i+2] = cwy[i+1]\n",
    "    cwx[-1] = cwx[-2]\n",
    "    if mode == 0:\n",
    "        cwy[-1] = max(lmap(cwx[-1], r=r), 0.0)\n",
    "    elif mode == 1:\n",
    "        cwy[-1] = max(tmap(cwx[-1], r=r), 0.0)\n",
    "    elif mode == 2:\n",
    "        cwy[-1] = max(mmap(cwx[-1], r=r), 0.0)\n",
    "\n",
    "# Generate x- and n-values\n",
    "x = np.linspace(0, 1.5, 101)\n",
    "nval = [np.floor((n+1)/2) for n in range(2*COBWEB_MAX+2)]\n",
    "\n",
    "# Set up side-by-side plots and initialize cobweb coordinate lists\n",
    "figs1, ax1 = plt.subplots(1, 2, figsize=(10, 4))\n",
    "cwx1 = np.zeros(2*COBWEB_MAX+2) # cobweb x-coordinates\n",
    "cwy1 = np.zeros_like(cwx1) # cobweb y-coordinates\n",
    "\n",
    "# Draw plot lines\n",
    "@widgets.interact(step=(0, 2*COBWEB_MAX, 1), r=(0.5, 3.0, 0.01), x0=(0.0, 1.25, 0.01))\n",
    "def update1(step=4, r=1.5, x0=0.25):\n",
    "    global ax1, cwx1, cwy1\n",
    "    \n",
    "    # Cobweb plot\n",
    "    ax1[0].clear()\n",
    "    ax1[0].set_xlim([0, 1.5])\n",
    "    ax1[0].set_ylim([0, 1.5])\n",
    "    ax1[0].grid(False)\n",
    "    ax1[0].set_title(\"Cobweb Plot\")\n",
    "    ax1[0].set_xlabel(\"$x_n$\")\n",
    "    ax1[0].set_ylabel(\"$x_{n+1}$\")\n",
    "    cobweb_update(x0, cwx1, cwy1, r=r, mode=0)\n",
    "    ax1[0].plot(x, lmap(x, r=r), color=\"C0\")\n",
    "    ax1[0].plot(x, x, color=\"black\")\n",
    "    ax1[0].plot(cwx1[:step+2], cwy1[:step+2], color=\"C1\")\n",
    "    ax1[0].plot(cwx1[step:step+2], cwy1[step:step+2], color=\"red\")\n",
    "    \n",
    "    # Scatter plot\n",
    "    ax1[1].clear()\n",
    "    ax1[1].set_ylim([0, 1.5])\n",
    "    ax1[1].grid(False)\n",
    "    ax1[1].set_title(\"Time Series\")\n",
    "    ax1[1].set_xlabel(\"$n$\")\n",
    "    ax1[1].set_ylabel(\"$x_n$\")\n",
    "    ax1[1].plot(np.append([0], nval[1:step+2:2]), np.append([x0], cwy1[1:step+2:2]), color=\"C0\", marker=\".\", markersize=10)\n",
    "    ax1[1].plot(nval[step+1], cwy1[step+1], color=\"red\", marker=\".\", markersize=10)"
   ]
  },
  {
   "cell_type": "code",
   "execution_count": 2,
   "id": "b796c174",
   "metadata": {
    "jupyter": {
     "source_hidden": true
    },
    "tags": []
   },
   "outputs": [
    {
     "data": {
      "application/vnd.jupyter.widget-view+json": {
       "model_id": "4cbce870d93c49df9c79632a85eef961",
       "version_major": 2,
       "version_minor": 0
      },
      "text/plain": [
       "Canvas(toolbar=Toolbar(toolitems=[('Home', 'Reset original view', 'home', 'home'), ('Back', 'Back to previous …"
      ]
     },
     "metadata": {},
     "output_type": "display_data"
    },
    {
     "data": {
      "application/vnd.jupyter.widget-view+json": {
       "model_id": "63020e6074b0465195049541a70ae08e",
       "version_major": 2,
       "version_minor": 0
      },
      "text/plain": [
       "interactive(children=(IntSlider(value=4, description='step', max=40), FloatSlider(value=1.5, description='r', …"
      ]
     },
     "metadata": {},
     "output_type": "display_data"
    }
   ],
   "source": [
    "# Set up side-by-side plots and initialize cobweb coordinate lists\n",
    "figs2, ax2 = plt.subplots(1, 2, figsize=(10, 4))\n",
    "cwx2 = np.zeros(2*COBWEB_MAX+2) # cobweb x-coordinates\n",
    "cwy2 = np.zeros_like(cwx2) # cobweb y-coordinates\n",
    "\n",
    "# Draw plot lines\n",
    "@widgets.interact(step=(0, 2*COBWEB_MAX, 1), r=(0.5, 4.0, 0.01), x0=(0.0, 1.25, 0.01))\n",
    "def update2(step=4, r=1.5, x0=0.65):\n",
    "    global ax2, cwx2, cwy2\n",
    "    \n",
    "    # Cobweb plot\n",
    "    ax2[0].clear()\n",
    "    ax2[0].set_xlim([0, 1.5])\n",
    "    ax2[0].set_ylim([0, 1.5])\n",
    "    ax2[0].grid(False)\n",
    "    ax2[0].set_title(\"Cobweb Plot\")\n",
    "    ax2[0].set_xlabel(\"$x_n$\")\n",
    "    ax2[0].set_ylabel(\"$x_{n+1}$\")\n",
    "    cobweb_update(x0, cwx2, cwy2, r=r, mode=1)\n",
    "    ax2[0].plot(x, tmap(x, r=r), color=\"C0\")\n",
    "    ax2[0].plot(x, x, color=\"black\")\n",
    "    ax2[0].plot(cwx2[:step+2], cwy2[:step+2], color=\"C1\")\n",
    "    ax2[0].plot(cwx2[step:step+2], cwy2[step:step+2], color=\"red\")\n",
    "    \n",
    "    # Scatter plot\n",
    "    ax2[1].clear()\n",
    "    ax2[1].set_ylim([0, 1.5])\n",
    "    ax2[1].grid(False)\n",
    "    ax2[1].set_title(\"Time Series\")\n",
    "    ax2[1].set_xlabel(\"$n$\")\n",
    "    ax2[1].set_ylabel(\"$x_n$\")\n",
    "    ax2[1].plot(np.append([0], nval[1:step+2:2]), np.append([x0], cwy2[1:step+2:2]), color=\"C0\", marker=\".\", markersize=10)\n",
    "    ax2[1].plot(nval[step+1], cwy2[step+1], color=\"red\", marker=\".\", markersize=10)"
   ]
  },
  {
   "cell_type": "code",
   "execution_count": null,
   "id": "aa1cd21a",
   "metadata": {
    "tags": []
   },
   "outputs": [],
   "source": []
  }
 ],
 "metadata": {
  "kernelspec": {
   "display_name": "Python 3",
   "language": "python",
   "name": "python3"
  },
  "language_info": {
   "codemirror_mode": {
    "name": "ipython",
    "version": 3
   },
   "file_extension": ".py",
   "mimetype": "text/x-python",
   "name": "python",
   "nbconvert_exporter": "python",
   "pygments_lexer": "ipython3",
   "version": "3.9.1"
  }
 },
 "nbformat": 4,
 "nbformat_minor": 5
}
