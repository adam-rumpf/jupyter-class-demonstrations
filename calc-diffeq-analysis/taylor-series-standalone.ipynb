{
 "cells": [
  {
   "cell_type": "code",
   "execution_count": 2,
   "id": "17376f88",
   "metadata": {},
   "outputs": [
    {
     "data": {
      "application/vnd.jupyter.widget-view+json": {
       "model_id": "8e0ecad5a1f24e6b931ad36429196d2a",
       "version_major": 2,
       "version_minor": 0
      },
      "text/plain": [
       "Canvas(toolbar=Toolbar(toolitems=[('Home', 'Reset original view', 'home', 'home'), ('Back', 'Back to previous …"
      ]
     },
     "metadata": {},
     "output_type": "display_data"
    },
    {
     "data": {
      "application/vnd.jupyter.widget-view+json": {
       "model_id": "cc1a84000d2c4388aa2a51effdee9a4f",
       "version_major": 2,
       "version_minor": 0
      },
      "text/plain": [
       "interactive(children=(FloatSlider(value=0.0, description='a', max=6.283185307179586, min=-6.283185307179586, s…"
      ]
     },
     "metadata": {},
     "output_type": "display_data"
    }
   ],
   "source": [
    "%matplotlib widget\n",
    "import ipywidgets as widgets\n",
    "import matplotlib.pyplot as plt\n",
    "import numpy as np\n",
    "\n",
    "# Define function derivatives\n",
    "def f0(x):\n",
    "    return np.sin(x)\n",
    "def f1(x):\n",
    "    return np.cos(x)\n",
    "def f2(x):\n",
    "    return -np.sin(x)\n",
    "def f3(x):\n",
    "    return -np.cos(x)\n",
    "def g0(x):\n",
    "    return np.exp(x)\n",
    "\n",
    "# Define function lists\n",
    "func = [[f0, f1, f2, f3]*2, [f1, f2, f3, f0]*2, [g0]*8]\n",
    "fname = [\"sin(x)\", \"cos(x)\", \"exp(x)\"]\n",
    "\n",
    "# Define Taylor polynomial\n",
    "def taylor(x, fid, a, n):\n",
    "    \"\"\"Taylor polynomial for a given function.\n",
    "    \n",
    "    Positional arguments:\n",
    "    x - input value\n",
    "    fid - function ID from 'func' list\n",
    "    a - center\n",
    "    n - polynomial degree\n",
    "    \"\"\"\n",
    "    \n",
    "    out = 0.0 # output value\n",
    "    \n",
    "    # Add terms of Taylor polynomial\n",
    "    for i in range(n+1):\n",
    "        out += (func[fid][i](a)/np.math.factorial(i))*(x - a)**i\n",
    "    \n",
    "    return out\n",
    "\n",
    "# Set up plot\n",
    "fig, ax = plt.subplots()\n",
    "\n",
    "# Generate x values\n",
    "x = np.linspace(-2*np.pi, 2*np.pi, 101)\n",
    "y = np.zeros_like(x) # initialize Taylor output array\n",
    "\n",
    "# Draw plot lines\n",
    "@widgets.interact(a=(-2*np.pi, 2*np.pi, 0.05), f=(0, 2, 1), n=(0, 7, 1))\n",
    "def update1(a=0.0, f=0, n=1):\n",
    "    global ax, y\n",
    "    ax.clear()\n",
    "    ax.set_ylim([-4, 4])\n",
    "    plt.title(fname[f])\n",
    "    ax.grid(False)\n",
    "    ax.set_xlabel(\"x\")\n",
    "    ax.set_ylabel(\"y\")\n",
    "    ax.plot(x, func[f][0](x), color=\"C0\")\n",
    "    y = taylor(x, f, a, n)\n",
    "    ax.plot(x, y, color=\"C1\")\n",
    "    ax.plot(a, func[f][0](a), color=\"C1\", marker=\".\", markersize=10)"
   ]
  },
  {
   "cell_type": "code",
   "execution_count": null,
   "id": "4995a562",
   "metadata": {},
   "outputs": [],
   "source": []
  }
 ],
 "metadata": {
  "kernelspec": {
   "display_name": "Python 3",
   "language": "python",
   "name": "python3"
  },
  "language_info": {
   "codemirror_mode": {
    "name": "ipython",
    "version": 3
   },
   "file_extension": ".py",
   "mimetype": "text/x-python",
   "name": "python",
   "nbconvert_exporter": "python",
   "pygments_lexer": "ipython3",
   "version": "3.9.1"
  }
 },
 "nbformat": 4,
 "nbformat_minor": 5
}
