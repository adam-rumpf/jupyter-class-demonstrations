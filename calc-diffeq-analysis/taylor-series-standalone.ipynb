{
 "cells": [
  {
   "cell_type": "code",
   "execution_count": 25,
   "id": "b31f85fd",
   "metadata": {},
   "outputs": [
    {
     "data": {
      "application/vnd.jupyter.widget-view+json": {
       "model_id": "726d08110b1342e29f4b5a948bdff82a",
       "version_major": 2,
       "version_minor": 0
      },
      "text/plain": [
       "Canvas(toolbar=Toolbar(toolitems=[('Home', 'Reset original view', 'home', 'home'), ('Back', 'Back to previous …"
      ]
     },
     "metadata": {},
     "output_type": "display_data"
    },
    {
     "data": {
      "application/vnd.jupyter.widget-view+json": {
       "model_id": "237a1b7a44a14cbeae3d80e7f7e556ce",
       "version_major": 2,
       "version_minor": 0
      },
      "text/plain": [
       "interactive(children=(Dropdown(description='fname', options=('sin(x)', 'cos(x)', 'exp(x)', 'log(x+1)'), value=…"
      ]
     },
     "metadata": {},
     "output_type": "display_data"
    }
   ],
   "source": [
    "%matplotlib widget\n",
    "import ipywidgets as widgets\n",
    "import matplotlib.pyplot as plt\n",
    "import numpy as np\n",
    "\n",
    "# Define parameters\n",
    "INF = 100 # out-of-bounds value\n",
    "\n",
    "# Define functions and derivatives\n",
    "def d_sin(x, n=0):\n",
    "    \"\"\"n-th derivative of sin(x).\"\"\"\n",
    "    \n",
    "    r = n % 4\n",
    "    if r == 0:\n",
    "        return np.sin(x)\n",
    "    elif r == 1:\n",
    "        return np.cos(x)\n",
    "    elif r == 2:\n",
    "        return -np.sin(x)\n",
    "    elif r == 3:\n",
    "        return -np.cos(x)\n",
    "\n",
    "def d_cos(x, n=0):\n",
    "    \"\"\"n-th derivative of cos(x).\"\"\"\n",
    "    \n",
    "    return d_sin(x, n=n+1)\n",
    "\n",
    "def d_exp(x, n=0):\n",
    "    \"\"\"n-th derivative of exp(x).\"\"\"\n",
    "    \n",
    "    return np.exp(x)\n",
    "\n",
    "def d_log(x, n=0):\n",
    "    \"\"\"n-th derivative of log(x+1).\"\"\"\n",
    "    \n",
    "    if n == 0:\n",
    "        return np.log(x+1)\n",
    "    else:\n",
    "        return (np.math.factorial(n-1) * (-1)**(n+1)) / (x+1)**n\n",
    "\n",
    "# Define a function name dictionary\n",
    "func = {}\n",
    "func[\"sin(x)\"] = d_sin\n",
    "func[\"cos(x)\"] = d_cos\n",
    "func[\"exp(x)\"] = d_exp\n",
    "func[\"log(x+1)\"] = d_log\n",
    "\n",
    "# Define Taylor polynomial\n",
    "def taylor(x, fname, a, n):\n",
    "    \"\"\"Taylor polynomial for a given function.\n",
    "    \n",
    "    Positional arguments:\n",
    "    x - input value\n",
    "    fname - key from 'func' dictionary\n",
    "    a - center\n",
    "    n - polynomial degree\n",
    "    \"\"\"\n",
    "    \n",
    "    out = 0.0 # output value\n",
    "    \n",
    "    # Add terms of Taylor polynomial\n",
    "    for i in range(n+1):\n",
    "        out += (func[fname](a, n=i) / np.math.factorial(i)) * (x-a)**i\n",
    "    \n",
    "    return out\n",
    "\n",
    "# Set up plot\n",
    "fig, ax = plt.subplots()\n",
    "xbase = np.linspace(-6.2, 6.2, 101) # base x-values\n",
    "\n",
    "# Draw plot lines\n",
    "@widgets.interact(fname=func.keys(), a=(-6.2, 6.2, 0.05), n=(0, 10, 1))\n",
    "def update1(fname=\"sin(x)\", a=0.0, n=1):\n",
    "    \n",
    "    global ax\n",
    "    a0 = a\n",
    "    \n",
    "    # Generate function values\n",
    "    if fname == \"log(x+1)\":\n",
    "        x = np.linspace(-0.99, 6.2, 71)\n",
    "        a0 = max(a0, -0.9)\n",
    "    else:\n",
    "        x = np.linspace(-6.2, 6.2, 101)\n",
    "    y = np.zeros_like(x)\n",
    "    \n",
    "    # Redraw plot\n",
    "    ax.clear()\n",
    "    ax.set_xlim([-6.2, 6.2])\n",
    "    ax.set_ylim([-4, 4])\n",
    "    plt.title(fname)\n",
    "    ax.grid(False)\n",
    "    ax.set_xlabel(\"x\")\n",
    "    ax.set_ylabel(\"y\")\n",
    "    ax.plot(x, func[fname](x), color=\"C0\")\n",
    "    y = taylor(xbase, fname, a0, n)\n",
    "    ax.plot(xbase, y, color=\"C1\")\n",
    "    ax.plot(a0, func[fname](a0), color=\"C1\", marker=\".\", markersize=10)\n",
    "    if fname == \"log(x+1)\":\n",
    "        ax.plot([-1, -1], [-INF, INF], color=\"black\", linestyle=\"dashed\")"
   ]
  },
  {
   "cell_type": "code",
   "execution_count": null,
   "id": "7081098e",
   "metadata": {},
   "outputs": [],
   "source": []
  }
 ],
 "metadata": {
  "kernelspec": {
   "display_name": "Python 3",
   "language": "python",
   "name": "python3"
  },
  "language_info": {
   "codemirror_mode": {
    "name": "ipython",
    "version": 3
   },
   "file_extension": ".py",
   "mimetype": "text/x-python",
   "name": "python",
   "nbconvert_exporter": "python",
   "pygments_lexer": "ipython3",
   "version": "3.9.1"
  }
 },
 "nbformat": 4,
 "nbformat_minor": 5
}
